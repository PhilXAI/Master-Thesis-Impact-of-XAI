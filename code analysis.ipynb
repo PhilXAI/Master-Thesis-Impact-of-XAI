{
 "cells": [
  {
   "cell_type": "code",
   "execution_count": 1,
   "id": "bc909bd3",
   "metadata": {},
   "outputs": [],
   "source": [
    "# import packages\n",
    "import pandas as pd\n",
    "import numpy as np\n",
    "import math as math\n",
    "import matplotlib as plt\n",
    "import seaborn as sn\n",
    "from matplotlib import pyplot as plt\n",
    "from scipy.stats import levene\n",
    "from scipy.stats import shapiro\n",
    "import scipy.stats as stats\n",
    "from scipy.stats import f_oneway \n",
    "from scipy.stats import wilcoxon\n",
    "from sklearn import metrics"
   ]
  },
  {
   "cell_type": "code",
   "execution_count": 2,
   "id": "f20e1440",
   "metadata": {},
   "outputs": [],
   "source": [
    "# read data\n",
    "df = pd.read_excel(\"../Data/Data.xlsx\")"
   ]
  },
  {
   "cell_type": "code",
   "execution_count": 3,
   "id": "2a037c04",
   "metadata": {},
   "outputs": [
    {
     "data": {
      "text/html": [
       "<div>\n",
       "<style scoped>\n",
       "    .dataframe tbody tr th:only-of-type {\n",
       "        vertical-align: middle;\n",
       "    }\n",
       "\n",
       "    .dataframe tbody tr th {\n",
       "        vertical-align: top;\n",
       "    }\n",
       "\n",
       "    .dataframe thead th {\n",
       "        text-align: right;\n",
       "    }\n",
       "</style>\n",
       "<table border=\"1\" class=\"dataframe\">\n",
       "  <thead>\n",
       "    <tr style=\"text-align: right;\">\n",
       "      <th></th>\n",
       "      <th>Guesses</th>\n",
       "      <th>P1</th>\n",
       "      <th>P2</th>\n",
       "      <th>P3</th>\n",
       "      <th>P4</th>\n",
       "      <th>P5</th>\n",
       "      <th>P6</th>\n",
       "      <th>P7</th>\n",
       "      <th>P8</th>\n",
       "      <th>P9</th>\n",
       "      <th>...</th>\n",
       "      <th>P15</th>\n",
       "      <th>P16</th>\n",
       "      <th>P17</th>\n",
       "      <th>Gender</th>\n",
       "      <th>Yearofbirth</th>\n",
       "      <th>highest_degree</th>\n",
       "      <th>Berlin</th>\n",
       "      <th>Hamburg</th>\n",
       "      <th>Jerusalem</th>\n",
       "      <th>TelAviv</th>\n",
       "    </tr>\n",
       "  </thead>\n",
       "  <tbody>\n",
       "    <tr>\n",
       "      <th>0</th>\n",
       "      <td>solution</td>\n",
       "      <td>H</td>\n",
       "      <td>B</td>\n",
       "      <td>J</td>\n",
       "      <td>T</td>\n",
       "      <td>B</td>\n",
       "      <td>H</td>\n",
       "      <td>T</td>\n",
       "      <td>J</td>\n",
       "      <td>B</td>\n",
       "      <td>...</td>\n",
       "      <td>H</td>\n",
       "      <td>H</td>\n",
       "      <td>T</td>\n",
       "      <td>NaN</td>\n",
       "      <td>NaN</td>\n",
       "      <td>NaN</td>\n",
       "      <td>NaN</td>\n",
       "      <td>NaN</td>\n",
       "      <td>NaN</td>\n",
       "      <td>NaN</td>\n",
       "    </tr>\n",
       "    <tr>\n",
       "      <th>1</th>\n",
       "      <td>AI_Guess</td>\n",
       "      <td>H</td>\n",
       "      <td>B</td>\n",
       "      <td>J</td>\n",
       "      <td>T</td>\n",
       "      <td>B</td>\n",
       "      <td>H</td>\n",
       "      <td>T</td>\n",
       "      <td>J</td>\n",
       "      <td>H</td>\n",
       "      <td>...</td>\n",
       "      <td>B</td>\n",
       "      <td>H</td>\n",
       "      <td>T</td>\n",
       "      <td>NaN</td>\n",
       "      <td>NaN</td>\n",
       "      <td>NaN</td>\n",
       "      <td>NaN</td>\n",
       "      <td>NaN</td>\n",
       "      <td>NaN</td>\n",
       "      <td>NaN</td>\n",
       "    </tr>\n",
       "    <tr>\n",
       "      <th>2</th>\n",
       "      <td>Controlgroup</td>\n",
       "      <td>B</td>\n",
       "      <td>B</td>\n",
       "      <td>T</td>\n",
       "      <td>J</td>\n",
       "      <td>B</td>\n",
       "      <td>H</td>\n",
       "      <td>J</td>\n",
       "      <td>T</td>\n",
       "      <td>B</td>\n",
       "      <td>...</td>\n",
       "      <td>H</td>\n",
       "      <td>B</td>\n",
       "      <td>J</td>\n",
       "      <td>M</td>\n",
       "      <td>1999.0</td>\n",
       "      <td>State_exam</td>\n",
       "      <td>1.0</td>\n",
       "      <td>0.0</td>\n",
       "      <td>0.0</td>\n",
       "      <td>0.0</td>\n",
       "    </tr>\n",
       "    <tr>\n",
       "      <th>3</th>\n",
       "      <td>Controlgroup</td>\n",
       "      <td>B</td>\n",
       "      <td>B</td>\n",
       "      <td>T</td>\n",
       "      <td>T</td>\n",
       "      <td>B</td>\n",
       "      <td>H</td>\n",
       "      <td>J</td>\n",
       "      <td>J</td>\n",
       "      <td>B</td>\n",
       "      <td>...</td>\n",
       "      <td>H</td>\n",
       "      <td>H</td>\n",
       "      <td>T</td>\n",
       "      <td>M</td>\n",
       "      <td>1995.0</td>\n",
       "      <td>A_level</td>\n",
       "      <td>1.0</td>\n",
       "      <td>1.0</td>\n",
       "      <td>0.0</td>\n",
       "      <td>0.0</td>\n",
       "    </tr>\n",
       "    <tr>\n",
       "      <th>4</th>\n",
       "      <td>Controlgroup</td>\n",
       "      <td>B</td>\n",
       "      <td>B</td>\n",
       "      <td>T</td>\n",
       "      <td>J</td>\n",
       "      <td>B</td>\n",
       "      <td>H</td>\n",
       "      <td>T</td>\n",
       "      <td>T</td>\n",
       "      <td>B</td>\n",
       "      <td>...</td>\n",
       "      <td>B</td>\n",
       "      <td>H</td>\n",
       "      <td>T</td>\n",
       "      <td>W</td>\n",
       "      <td>1996.0</td>\n",
       "      <td>Bachelor</td>\n",
       "      <td>1.0</td>\n",
       "      <td>0.0</td>\n",
       "      <td>0.0</td>\n",
       "      <td>0.0</td>\n",
       "    </tr>\n",
       "    <tr>\n",
       "      <th>5</th>\n",
       "      <td>Controlgroup</td>\n",
       "      <td>B</td>\n",
       "      <td>B</td>\n",
       "      <td>J</td>\n",
       "      <td>J</td>\n",
       "      <td>H</td>\n",
       "      <td>H</td>\n",
       "      <td>T</td>\n",
       "      <td>T</td>\n",
       "      <td>B</td>\n",
       "      <td>...</td>\n",
       "      <td>H</td>\n",
       "      <td>B</td>\n",
       "      <td>T</td>\n",
       "      <td>M</td>\n",
       "      <td>1992.0</td>\n",
       "      <td>Bachelor</td>\n",
       "      <td>1.0</td>\n",
       "      <td>0.0</td>\n",
       "      <td>1.0</td>\n",
       "      <td>1.0</td>\n",
       "    </tr>\n",
       "    <tr>\n",
       "      <th>6</th>\n",
       "      <td>Controlgroup</td>\n",
       "      <td>H</td>\n",
       "      <td>B</td>\n",
       "      <td>T</td>\n",
       "      <td>T</td>\n",
       "      <td>J</td>\n",
       "      <td>H</td>\n",
       "      <td>J</td>\n",
       "      <td>J</td>\n",
       "      <td>B</td>\n",
       "      <td>...</td>\n",
       "      <td>H</td>\n",
       "      <td>H</td>\n",
       "      <td>T</td>\n",
       "      <td>W</td>\n",
       "      <td>1996.0</td>\n",
       "      <td>Master</td>\n",
       "      <td>1.0</td>\n",
       "      <td>1.0</td>\n",
       "      <td>0.0</td>\n",
       "      <td>0.0</td>\n",
       "    </tr>\n",
       "    <tr>\n",
       "      <th>7</th>\n",
       "      <td>Controlgroup</td>\n",
       "      <td>H</td>\n",
       "      <td>B</td>\n",
       "      <td>J</td>\n",
       "      <td>T</td>\n",
       "      <td>B</td>\n",
       "      <td>H</td>\n",
       "      <td>T</td>\n",
       "      <td>J</td>\n",
       "      <td>H</td>\n",
       "      <td>...</td>\n",
       "      <td>H</td>\n",
       "      <td>B</td>\n",
       "      <td>T</td>\n",
       "      <td>W</td>\n",
       "      <td>1999.0</td>\n",
       "      <td>A_level</td>\n",
       "      <td>1.0</td>\n",
       "      <td>0.0</td>\n",
       "      <td>0.0</td>\n",
       "      <td>0.0</td>\n",
       "    </tr>\n",
       "    <tr>\n",
       "      <th>8</th>\n",
       "      <td>Controlgroup</td>\n",
       "      <td>B</td>\n",
       "      <td>B</td>\n",
       "      <td>T</td>\n",
       "      <td>J</td>\n",
       "      <td>B</td>\n",
       "      <td>H</td>\n",
       "      <td>T</td>\n",
       "      <td>J</td>\n",
       "      <td>B</td>\n",
       "      <td>...</td>\n",
       "      <td>H</td>\n",
       "      <td>H</td>\n",
       "      <td>J</td>\n",
       "      <td>M</td>\n",
       "      <td>1998.0</td>\n",
       "      <td>Bachelor</td>\n",
       "      <td>1.0</td>\n",
       "      <td>1.0</td>\n",
       "      <td>0.0</td>\n",
       "      <td>0.0</td>\n",
       "    </tr>\n",
       "    <tr>\n",
       "      <th>9</th>\n",
       "      <td>Controlgroup</td>\n",
       "      <td>B</td>\n",
       "      <td>H</td>\n",
       "      <td>T</td>\n",
       "      <td>J</td>\n",
       "      <td>B</td>\n",
       "      <td>H</td>\n",
       "      <td>T</td>\n",
       "      <td>J</td>\n",
       "      <td>H</td>\n",
       "      <td>...</td>\n",
       "      <td>H</td>\n",
       "      <td>H</td>\n",
       "      <td>J</td>\n",
       "      <td>M</td>\n",
       "      <td>1998.0</td>\n",
       "      <td>Bachelor</td>\n",
       "      <td>1.0</td>\n",
       "      <td>1.0</td>\n",
       "      <td>0.0</td>\n",
       "      <td>0.0</td>\n",
       "    </tr>\n",
       "    <tr>\n",
       "      <th>10</th>\n",
       "      <td>Controlgroup</td>\n",
       "      <td>B</td>\n",
       "      <td>H</td>\n",
       "      <td>T</td>\n",
       "      <td>J</td>\n",
       "      <td>B</td>\n",
       "      <td>H</td>\n",
       "      <td>J</td>\n",
       "      <td>T</td>\n",
       "      <td>H</td>\n",
       "      <td>...</td>\n",
       "      <td>H</td>\n",
       "      <td>B</td>\n",
       "      <td>T</td>\n",
       "      <td>M</td>\n",
       "      <td>1997.0</td>\n",
       "      <td>State_exam</td>\n",
       "      <td>1.0</td>\n",
       "      <td>0.0</td>\n",
       "      <td>0.0</td>\n",
       "      <td>0.0</td>\n",
       "    </tr>\n",
       "    <tr>\n",
       "      <th>11</th>\n",
       "      <td>Controlgroup</td>\n",
       "      <td>B</td>\n",
       "      <td>B</td>\n",
       "      <td>J</td>\n",
       "      <td>T</td>\n",
       "      <td>B</td>\n",
       "      <td>H</td>\n",
       "      <td>T</td>\n",
       "      <td>J</td>\n",
       "      <td>B</td>\n",
       "      <td>...</td>\n",
       "      <td>H</td>\n",
       "      <td>B</td>\n",
       "      <td>T</td>\n",
       "      <td>W</td>\n",
       "      <td>1998.0</td>\n",
       "      <td>Bachelor</td>\n",
       "      <td>1.0</td>\n",
       "      <td>0.0</td>\n",
       "      <td>0.0</td>\n",
       "      <td>0.0</td>\n",
       "    </tr>\n",
       "    <tr>\n",
       "      <th>12</th>\n",
       "      <td>Treatment_1</td>\n",
       "      <td>H</td>\n",
       "      <td>H</td>\n",
       "      <td>T</td>\n",
       "      <td>J</td>\n",
       "      <td>B</td>\n",
       "      <td>H</td>\n",
       "      <td>T</td>\n",
       "      <td>J</td>\n",
       "      <td>B</td>\n",
       "      <td>...</td>\n",
       "      <td>H</td>\n",
       "      <td>J</td>\n",
       "      <td>J</td>\n",
       "      <td>W</td>\n",
       "      <td>1998.0</td>\n",
       "      <td>Bachelor</td>\n",
       "      <td>1.0</td>\n",
       "      <td>1.0</td>\n",
       "      <td>0.0</td>\n",
       "      <td>0.0</td>\n",
       "    </tr>\n",
       "    <tr>\n",
       "      <th>13</th>\n",
       "      <td>Treatment_1</td>\n",
       "      <td>B</td>\n",
       "      <td>T</td>\n",
       "      <td>J</td>\n",
       "      <td>T</td>\n",
       "      <td>B</td>\n",
       "      <td>J</td>\n",
       "      <td>T</td>\n",
       "      <td>J</td>\n",
       "      <td>H</td>\n",
       "      <td>...</td>\n",
       "      <td>H</td>\n",
       "      <td>B</td>\n",
       "      <td>T</td>\n",
       "      <td>W</td>\n",
       "      <td>1999.0</td>\n",
       "      <td>Master</td>\n",
       "      <td>0.0</td>\n",
       "      <td>0.0</td>\n",
       "      <td>0.0</td>\n",
       "      <td>0.0</td>\n",
       "    </tr>\n",
       "    <tr>\n",
       "      <th>14</th>\n",
       "      <td>Treatment_1</td>\n",
       "      <td>H</td>\n",
       "      <td>T</td>\n",
       "      <td>J</td>\n",
       "      <td>T</td>\n",
       "      <td>B</td>\n",
       "      <td>H</td>\n",
       "      <td>T</td>\n",
       "      <td>J</td>\n",
       "      <td>B</td>\n",
       "      <td>...</td>\n",
       "      <td>H</td>\n",
       "      <td>B</td>\n",
       "      <td>T</td>\n",
       "      <td>M</td>\n",
       "      <td>1994.0</td>\n",
       "      <td>State_exam</td>\n",
       "      <td>0.0</td>\n",
       "      <td>0.0</td>\n",
       "      <td>0.0</td>\n",
       "      <td>0.0</td>\n",
       "    </tr>\n",
       "    <tr>\n",
       "      <th>15</th>\n",
       "      <td>Treatment_1</td>\n",
       "      <td>H</td>\n",
       "      <td>B</td>\n",
       "      <td>T</td>\n",
       "      <td>T</td>\n",
       "      <td>H</td>\n",
       "      <td>H</td>\n",
       "      <td>T</td>\n",
       "      <td>T</td>\n",
       "      <td>B</td>\n",
       "      <td>...</td>\n",
       "      <td>H</td>\n",
       "      <td>B</td>\n",
       "      <td>J</td>\n",
       "      <td>M</td>\n",
       "      <td>1998.0</td>\n",
       "      <td>A_level</td>\n",
       "      <td>1.0</td>\n",
       "      <td>0.0</td>\n",
       "      <td>0.0</td>\n",
       "      <td>0.0</td>\n",
       "    </tr>\n",
       "    <tr>\n",
       "      <th>16</th>\n",
       "      <td>Treatment_1</td>\n",
       "      <td>B</td>\n",
       "      <td>H</td>\n",
       "      <td>J</td>\n",
       "      <td>J</td>\n",
       "      <td>B</td>\n",
       "      <td>H</td>\n",
       "      <td>T</td>\n",
       "      <td>J</td>\n",
       "      <td>H</td>\n",
       "      <td>...</td>\n",
       "      <td>H</td>\n",
       "      <td>H</td>\n",
       "      <td>T</td>\n",
       "      <td>M</td>\n",
       "      <td>1999.0</td>\n",
       "      <td>Bachelor</td>\n",
       "      <td>1.0</td>\n",
       "      <td>1.0</td>\n",
       "      <td>0.0</td>\n",
       "      <td>0.0</td>\n",
       "    </tr>\n",
       "    <tr>\n",
       "      <th>17</th>\n",
       "      <td>Treatment_1</td>\n",
       "      <td>B</td>\n",
       "      <td>H</td>\n",
       "      <td>T</td>\n",
       "      <td>J</td>\n",
       "      <td>B</td>\n",
       "      <td>H</td>\n",
       "      <td>J</td>\n",
       "      <td>J</td>\n",
       "      <td>B</td>\n",
       "      <td>...</td>\n",
       "      <td>H</td>\n",
       "      <td>H</td>\n",
       "      <td>T</td>\n",
       "      <td>W</td>\n",
       "      <td>1996.0</td>\n",
       "      <td>Bachelor</td>\n",
       "      <td>0.0</td>\n",
       "      <td>1.0</td>\n",
       "      <td>0.0</td>\n",
       "      <td>0.0</td>\n",
       "    </tr>\n",
       "    <tr>\n",
       "      <th>18</th>\n",
       "      <td>Treatment_1</td>\n",
       "      <td>H</td>\n",
       "      <td>B</td>\n",
       "      <td>T</td>\n",
       "      <td>T</td>\n",
       "      <td>H</td>\n",
       "      <td>H</td>\n",
       "      <td>T</td>\n",
       "      <td>T</td>\n",
       "      <td>B</td>\n",
       "      <td>...</td>\n",
       "      <td>H</td>\n",
       "      <td>B</td>\n",
       "      <td>T</td>\n",
       "      <td>M</td>\n",
       "      <td>1998.0</td>\n",
       "      <td>Master</td>\n",
       "      <td>0.0</td>\n",
       "      <td>1.0</td>\n",
       "      <td>0.0</td>\n",
       "      <td>0.0</td>\n",
       "    </tr>\n",
       "    <tr>\n",
       "      <th>19</th>\n",
       "      <td>Treatment_1</td>\n",
       "      <td>B</td>\n",
       "      <td>B</td>\n",
       "      <td>T</td>\n",
       "      <td>J</td>\n",
       "      <td>B</td>\n",
       "      <td>H</td>\n",
       "      <td>T</td>\n",
       "      <td>J</td>\n",
       "      <td>H</td>\n",
       "      <td>...</td>\n",
       "      <td>H</td>\n",
       "      <td>H</td>\n",
       "      <td>J</td>\n",
       "      <td>W</td>\n",
       "      <td>1997.0</td>\n",
       "      <td>Bachelor</td>\n",
       "      <td>1.0</td>\n",
       "      <td>1.0</td>\n",
       "      <td>0.0</td>\n",
       "      <td>0.0</td>\n",
       "    </tr>\n",
       "    <tr>\n",
       "      <th>20</th>\n",
       "      <td>Treatment_1</td>\n",
       "      <td>B</td>\n",
       "      <td>B</td>\n",
       "      <td>J</td>\n",
       "      <td>T</td>\n",
       "      <td>B</td>\n",
       "      <td>H</td>\n",
       "      <td>J</td>\n",
       "      <td>J</td>\n",
       "      <td>B</td>\n",
       "      <td>...</td>\n",
       "      <td>H</td>\n",
       "      <td>B</td>\n",
       "      <td>J</td>\n",
       "      <td>M</td>\n",
       "      <td>1997.0</td>\n",
       "      <td>Bachelor</td>\n",
       "      <td>1.0</td>\n",
       "      <td>0.0</td>\n",
       "      <td>0.0</td>\n",
       "      <td>0.0</td>\n",
       "    </tr>\n",
       "    <tr>\n",
       "      <th>21</th>\n",
       "      <td>Treatment_1</td>\n",
       "      <td>B</td>\n",
       "      <td>H</td>\n",
       "      <td>J</td>\n",
       "      <td>T</td>\n",
       "      <td>B</td>\n",
       "      <td>H</td>\n",
       "      <td>T</td>\n",
       "      <td>J</td>\n",
       "      <td>B</td>\n",
       "      <td>...</td>\n",
       "      <td>H</td>\n",
       "      <td>H</td>\n",
       "      <td>T</td>\n",
       "      <td>M</td>\n",
       "      <td>1998.0</td>\n",
       "      <td>Bachelor</td>\n",
       "      <td>1.0</td>\n",
       "      <td>0.0</td>\n",
       "      <td>0.0</td>\n",
       "      <td>0.0</td>\n",
       "    </tr>\n",
       "    <tr>\n",
       "      <th>22</th>\n",
       "      <td>Treatment_2</td>\n",
       "      <td>B</td>\n",
       "      <td>B</td>\n",
       "      <td>J</td>\n",
       "      <td>T</td>\n",
       "      <td>B</td>\n",
       "      <td>H</td>\n",
       "      <td>T</td>\n",
       "      <td>J</td>\n",
       "      <td>B</td>\n",
       "      <td>...</td>\n",
       "      <td>H</td>\n",
       "      <td>B</td>\n",
       "      <td>J</td>\n",
       "      <td>M</td>\n",
       "      <td>1998.0</td>\n",
       "      <td>Bachelor</td>\n",
       "      <td>0.0</td>\n",
       "      <td>1.0</td>\n",
       "      <td>0.0</td>\n",
       "      <td>0.0</td>\n",
       "    </tr>\n",
       "    <tr>\n",
       "      <th>23</th>\n",
       "      <td>Treatment_2</td>\n",
       "      <td>B</td>\n",
       "      <td>B</td>\n",
       "      <td>T</td>\n",
       "      <td>J</td>\n",
       "      <td>B</td>\n",
       "      <td>H</td>\n",
       "      <td>T</td>\n",
       "      <td>J</td>\n",
       "      <td>H</td>\n",
       "      <td>...</td>\n",
       "      <td>H</td>\n",
       "      <td>B</td>\n",
       "      <td>T</td>\n",
       "      <td>M</td>\n",
       "      <td>1997.0</td>\n",
       "      <td>Master</td>\n",
       "      <td>0.0</td>\n",
       "      <td>1.0</td>\n",
       "      <td>0.0</td>\n",
       "      <td>0.0</td>\n",
       "    </tr>\n",
       "    <tr>\n",
       "      <th>24</th>\n",
       "      <td>Treatment_2</td>\n",
       "      <td>H</td>\n",
       "      <td>B</td>\n",
       "      <td>J</td>\n",
       "      <td>T</td>\n",
       "      <td>B</td>\n",
       "      <td>H</td>\n",
       "      <td>T</td>\n",
       "      <td>J</td>\n",
       "      <td>H</td>\n",
       "      <td>...</td>\n",
       "      <td>H</td>\n",
       "      <td>B</td>\n",
       "      <td>T</td>\n",
       "      <td>M</td>\n",
       "      <td>1996.0</td>\n",
       "      <td>Bachelor</td>\n",
       "      <td>1.0</td>\n",
       "      <td>1.0</td>\n",
       "      <td>1.0</td>\n",
       "      <td>1.0</td>\n",
       "    </tr>\n",
       "    <tr>\n",
       "      <th>25</th>\n",
       "      <td>Treatment_2</td>\n",
       "      <td>B</td>\n",
       "      <td>H</td>\n",
       "      <td>J</td>\n",
       "      <td>J</td>\n",
       "      <td>B</td>\n",
       "      <td>H</td>\n",
       "      <td>T</td>\n",
       "      <td>T</td>\n",
       "      <td>B</td>\n",
       "      <td>...</td>\n",
       "      <td>B</td>\n",
       "      <td>B</td>\n",
       "      <td>H</td>\n",
       "      <td>M</td>\n",
       "      <td>1998.0</td>\n",
       "      <td>Bachelor</td>\n",
       "      <td>1.0</td>\n",
       "      <td>1.0</td>\n",
       "      <td>0.0</td>\n",
       "      <td>0.0</td>\n",
       "    </tr>\n",
       "    <tr>\n",
       "      <th>26</th>\n",
       "      <td>Treatment_2</td>\n",
       "      <td>H</td>\n",
       "      <td>B</td>\n",
       "      <td>T</td>\n",
       "      <td>T</td>\n",
       "      <td>B</td>\n",
       "      <td>H</td>\n",
       "      <td>T</td>\n",
       "      <td>J</td>\n",
       "      <td>B</td>\n",
       "      <td>...</td>\n",
       "      <td>H</td>\n",
       "      <td>H</td>\n",
       "      <td>J</td>\n",
       "      <td>W</td>\n",
       "      <td>1999.0</td>\n",
       "      <td>Bachelor</td>\n",
       "      <td>1.0</td>\n",
       "      <td>0.0</td>\n",
       "      <td>0.0</td>\n",
       "      <td>0.0</td>\n",
       "    </tr>\n",
       "    <tr>\n",
       "      <th>27</th>\n",
       "      <td>Treatment_2</td>\n",
       "      <td>B</td>\n",
       "      <td>B</td>\n",
       "      <td>T</td>\n",
       "      <td>J</td>\n",
       "      <td>B</td>\n",
       "      <td>H</td>\n",
       "      <td>T</td>\n",
       "      <td>J</td>\n",
       "      <td>H</td>\n",
       "      <td>...</td>\n",
       "      <td>H</td>\n",
       "      <td>B</td>\n",
       "      <td>J</td>\n",
       "      <td>M</td>\n",
       "      <td>1998.0</td>\n",
       "      <td>Bachelor</td>\n",
       "      <td>1.0</td>\n",
       "      <td>0.0</td>\n",
       "      <td>0.0</td>\n",
       "      <td>0.0</td>\n",
       "    </tr>\n",
       "    <tr>\n",
       "      <th>28</th>\n",
       "      <td>Treatment_2</td>\n",
       "      <td>B</td>\n",
       "      <td>H</td>\n",
       "      <td>T</td>\n",
       "      <td>J</td>\n",
       "      <td>B</td>\n",
       "      <td>H</td>\n",
       "      <td>T</td>\n",
       "      <td>J</td>\n",
       "      <td>H</td>\n",
       "      <td>...</td>\n",
       "      <td>B</td>\n",
       "      <td>B</td>\n",
       "      <td>T</td>\n",
       "      <td>W</td>\n",
       "      <td>1998.0</td>\n",
       "      <td>State_exam</td>\n",
       "      <td>1.0</td>\n",
       "      <td>1.0</td>\n",
       "      <td>0.0</td>\n",
       "      <td>0.0</td>\n",
       "    </tr>\n",
       "    <tr>\n",
       "      <th>29</th>\n",
       "      <td>Treatment_2</td>\n",
       "      <td>B</td>\n",
       "      <td>B</td>\n",
       "      <td>J</td>\n",
       "      <td>T</td>\n",
       "      <td>B</td>\n",
       "      <td>H</td>\n",
       "      <td>T</td>\n",
       "      <td>J</td>\n",
       "      <td>B</td>\n",
       "      <td>...</td>\n",
       "      <td>H</td>\n",
       "      <td>H</td>\n",
       "      <td>T</td>\n",
       "      <td>W</td>\n",
       "      <td>1997.0</td>\n",
       "      <td>Bachelor</td>\n",
       "      <td>1.0</td>\n",
       "      <td>1.0</td>\n",
       "      <td>0.0</td>\n",
       "      <td>0.0</td>\n",
       "    </tr>\n",
       "    <tr>\n",
       "      <th>30</th>\n",
       "      <td>Treatment_2</td>\n",
       "      <td>H</td>\n",
       "      <td>B</td>\n",
       "      <td>T</td>\n",
       "      <td>T</td>\n",
       "      <td>B</td>\n",
       "      <td>H</td>\n",
       "      <td>T</td>\n",
       "      <td>T</td>\n",
       "      <td>H</td>\n",
       "      <td>...</td>\n",
       "      <td>H</td>\n",
       "      <td>H</td>\n",
       "      <td>J</td>\n",
       "      <td>M</td>\n",
       "      <td>1998.0</td>\n",
       "      <td>A_level</td>\n",
       "      <td>0.0</td>\n",
       "      <td>1.0</td>\n",
       "      <td>0.0</td>\n",
       "      <td>0.0</td>\n",
       "    </tr>\n",
       "    <tr>\n",
       "      <th>31</th>\n",
       "      <td>Treatment_2</td>\n",
       "      <td>B</td>\n",
       "      <td>B</td>\n",
       "      <td>J</td>\n",
       "      <td>T</td>\n",
       "      <td>B</td>\n",
       "      <td>H</td>\n",
       "      <td>T</td>\n",
       "      <td>J</td>\n",
       "      <td>H</td>\n",
       "      <td>...</td>\n",
       "      <td>H</td>\n",
       "      <td>H</td>\n",
       "      <td>T</td>\n",
       "      <td>M</td>\n",
       "      <td>1998.0</td>\n",
       "      <td>Master</td>\n",
       "      <td>1.0</td>\n",
       "      <td>0.0</td>\n",
       "      <td>0.0</td>\n",
       "      <td>0.0</td>\n",
       "    </tr>\n",
       "  </tbody>\n",
       "</table>\n",
       "<p>32 rows × 25 columns</p>\n",
       "</div>"
      ],
      "text/plain": [
       "         Guesses P1 P2 P3 P4 P5 P6 P7 P8 P9  ... P15 P16 P17 Gender  \\\n",
       "0       solution  H  B  J  T  B  H  T  J  B  ...   H   H   T    NaN   \n",
       "1       AI_Guess  H  B  J  T  B  H  T  J  H  ...   B   H   T    NaN   \n",
       "2   Controlgroup  B  B  T  J  B  H  J  T  B  ...   H   B   J      M   \n",
       "3   Controlgroup  B  B  T  T  B  H  J  J  B  ...   H   H   T      M   \n",
       "4   Controlgroup  B  B  T  J  B  H  T  T  B  ...   B   H   T      W   \n",
       "5   Controlgroup  B  B  J  J  H  H  T  T  B  ...   H   B   T      M   \n",
       "6   Controlgroup  H  B  T  T  J  H  J  J  B  ...   H   H   T      W   \n",
       "7   Controlgroup  H  B  J  T  B  H  T  J  H  ...   H   B   T      W   \n",
       "8   Controlgroup  B  B  T  J  B  H  T  J  B  ...   H   H   J      M   \n",
       "9   Controlgroup  B  H  T  J  B  H  T  J  H  ...   H   H   J      M   \n",
       "10  Controlgroup  B  H  T  J  B  H  J  T  H  ...   H   B   T      M   \n",
       "11  Controlgroup  B  B  J  T  B  H  T  J  B  ...   H   B   T      W   \n",
       "12   Treatment_1  H  H  T  J  B  H  T  J  B  ...   H   J   J      W   \n",
       "13   Treatment_1  B  T  J  T  B  J  T  J  H  ...   H   B   T      W   \n",
       "14   Treatment_1  H  T  J  T  B  H  T  J  B  ...   H   B   T      M   \n",
       "15   Treatment_1  H  B  T  T  H  H  T  T  B  ...   H   B   J      M   \n",
       "16   Treatment_1  B  H  J  J  B  H  T  J  H  ...   H   H   T      M   \n",
       "17   Treatment_1  B  H  T  J  B  H  J  J  B  ...   H   H   T      W   \n",
       "18   Treatment_1  H  B  T  T  H  H  T  T  B  ...   H   B   T      M   \n",
       "19   Treatment_1  B  B  T  J  B  H  T  J  H  ...   H   H   J      W   \n",
       "20   Treatment_1  B  B  J  T  B  H  J  J  B  ...   H   B   J      M   \n",
       "21   Treatment_1  B  H  J  T  B  H  T  J  B  ...   H   H   T      M   \n",
       "22   Treatment_2  B  B  J  T  B  H  T  J  B  ...   H   B   J      M   \n",
       "23   Treatment_2  B  B  T  J  B  H  T  J  H  ...   H   B   T      M   \n",
       "24   Treatment_2  H  B  J  T  B  H  T  J  H  ...   H   B   T      M   \n",
       "25   Treatment_2  B  H  J  J  B  H  T  T  B  ...   B   B   H      M   \n",
       "26   Treatment_2  H  B  T  T  B  H  T  J  B  ...   H   H   J      W   \n",
       "27   Treatment_2  B  B  T  J  B  H  T  J  H  ...   H   B   J      M   \n",
       "28   Treatment_2  B  H  T  J  B  H  T  J  H  ...   B   B   T      W   \n",
       "29   Treatment_2  B  B  J  T  B  H  T  J  B  ...   H   H   T      W   \n",
       "30   Treatment_2  H  B  T  T  B  H  T  T  H  ...   H   H   J      M   \n",
       "31   Treatment_2  B  B  J  T  B  H  T  J  H  ...   H   H   T      M   \n",
       "\n",
       "   Yearofbirth highest_degree Berlin Hamburg Jerusalem  TelAviv  \n",
       "0          NaN            NaN    NaN     NaN       NaN      NaN  \n",
       "1          NaN            NaN    NaN     NaN       NaN      NaN  \n",
       "2       1999.0     State_exam    1.0     0.0       0.0      0.0  \n",
       "3       1995.0        A_level    1.0     1.0       0.0      0.0  \n",
       "4       1996.0       Bachelor    1.0     0.0       0.0      0.0  \n",
       "5       1992.0       Bachelor    1.0     0.0       1.0      1.0  \n",
       "6       1996.0         Master    1.0     1.0       0.0      0.0  \n",
       "7       1999.0        A_level    1.0     0.0       0.0      0.0  \n",
       "8       1998.0       Bachelor    1.0     1.0       0.0      0.0  \n",
       "9       1998.0       Bachelor    1.0     1.0       0.0      0.0  \n",
       "10      1997.0     State_exam    1.0     0.0       0.0      0.0  \n",
       "11      1998.0       Bachelor    1.0     0.0       0.0      0.0  \n",
       "12      1998.0       Bachelor    1.0     1.0       0.0      0.0  \n",
       "13      1999.0         Master    0.0     0.0       0.0      0.0  \n",
       "14      1994.0     State_exam    0.0     0.0       0.0      0.0  \n",
       "15      1998.0        A_level    1.0     0.0       0.0      0.0  \n",
       "16      1999.0       Bachelor    1.0     1.0       0.0      0.0  \n",
       "17      1996.0       Bachelor    0.0     1.0       0.0      0.0  \n",
       "18      1998.0         Master    0.0     1.0       0.0      0.0  \n",
       "19      1997.0       Bachelor    1.0     1.0       0.0      0.0  \n",
       "20      1997.0       Bachelor    1.0     0.0       0.0      0.0  \n",
       "21      1998.0       Bachelor    1.0     0.0       0.0      0.0  \n",
       "22      1998.0       Bachelor    0.0     1.0       0.0      0.0  \n",
       "23      1997.0         Master    0.0     1.0       0.0      0.0  \n",
       "24      1996.0       Bachelor    1.0     1.0       1.0      1.0  \n",
       "25      1998.0       Bachelor    1.0     1.0       0.0      0.0  \n",
       "26      1999.0       Bachelor    1.0     0.0       0.0      0.0  \n",
       "27      1998.0       Bachelor    1.0     0.0       0.0      0.0  \n",
       "28      1998.0     State_exam    1.0     1.0       0.0      0.0  \n",
       "29      1997.0       Bachelor    1.0     1.0       0.0      0.0  \n",
       "30      1998.0        A_level    0.0     1.0       0.0      0.0  \n",
       "31      1998.0         Master    1.0     0.0       0.0      0.0  \n",
       "\n",
       "[32 rows x 25 columns]"
      ]
     },
     "execution_count": 3,
     "metadata": {},
     "output_type": "execute_result"
    }
   ],
   "source": [
    "# show data\n",
    "df"
   ]
  },
  {
   "cell_type": "code",
   "execution_count": 4,
   "id": "09dab10d",
   "metadata": {},
   "outputs": [],
   "source": [
    "# separate data frame\n",
    "solutions=df.head(2)\n",
    "guesses=df.tail(30)\n",
    "controlgroup=df.loc[2:11]\n",
    "treatment1=df.loc[12:21]\n",
    "treatment2=df.loc[22:31]"
   ]
  },
  {
   "cell_type": "code",
   "execution_count": 5,
   "id": "28095edb",
   "metadata": {},
   "outputs": [],
   "source": [
    "# define groups\n",
    "pre=[\"P1\",\"P2\",\"P3\",\"P4\"]\n",
    "post=[\"P13\",\"P15\",\"P16\",\"P17\"]\n",
    "up=[\"P5\",\"P6\",\"P7\",\"P8\",\"P9\",\"P10\",\"P11\",\"P12\"]\n",
    "userdata=[\"Gender\",\"Yearofbirth\",\"highest_degree\",\"Berlin\",\"Hamburg\",\"Jerusalem\",\"TelAviv\"]"
   ]
  },
  {
   "cell_type": "code",
   "execution_count": 6,
   "id": "4a36a6f9",
   "metadata": {
    "scrolled": true
   },
   "outputs": [],
   "source": [
    "#measure user performance\n",
    "def measure_performance(data, solutions, testtype):\n",
    "    performance=[]\n",
    "    for user in range(len(data)):\n",
    "        i=0\n",
    "        for picture in testtype:\n",
    "            if data[testtype].iloc[user][picture] == solutions[testtype].iloc[0][picture]:\n",
    "                i = i+1\n",
    "        performance.append(i)\n",
    "    return performance"
   ]
  },
  {
   "cell_type": "code",
   "execution_count": 7,
   "id": "658e5908",
   "metadata": {
    "scrolled": true
   },
   "outputs": [
    {
     "data": {
      "text/plain": [
       "[5, 4, 5, 5, 5, 6, 7, 6, 4, 7]"
      ]
     },
     "execution_count": 7,
     "metadata": {},
     "output_type": "execute_result"
    }
   ],
   "source": [
    "#user performance controlgroup\n",
    "measure_performance(controlgroup, solutions, up)"
   ]
  },
  {
   "cell_type": "code",
   "execution_count": 8,
   "id": "b4f67481",
   "metadata": {
    "scrolled": false
   },
   "outputs": [
    {
     "data": {
      "text/plain": [
       "5.4"
      ]
     },
     "execution_count": 8,
     "metadata": {},
     "output_type": "execute_result"
    }
   ],
   "source": [
    "np.mean(measure_performance(controlgroup, solutions, up))"
   ]
  },
  {
   "cell_type": "code",
   "execution_count": 9,
   "id": "9aa4e2fb",
   "metadata": {},
   "outputs": [
    {
     "data": {
      "text/plain": [
       "5.0"
      ]
     },
     "execution_count": 9,
     "metadata": {},
     "output_type": "execute_result"
    }
   ],
   "source": [
    "np.median(measure_performance(controlgroup, solutions, up))"
   ]
  },
  {
   "cell_type": "code",
   "execution_count": 10,
   "id": "26522efe",
   "metadata": {},
   "outputs": [
    {
     "data": {
      "text/plain": [
       "1.07496769977314"
      ]
     },
     "execution_count": 10,
     "metadata": {},
     "output_type": "execute_result"
    }
   ],
   "source": [
    "stdcontrol = np.std(measure_performance(controlgroup, solutions, up))*np.sqrt(10/(10-1))\n",
    "stdcontrol"
   ]
  },
  {
   "cell_type": "code",
   "execution_count": 11,
   "id": "8794ccac",
   "metadata": {
    "scrolled": true
   },
   "outputs": [
    {
     "data": {
      "image/png": "[encoded data removed]",
      "text/plain": [
       "<Figure size 432x288 with 1 Axes>"
      ]
     },
     "metadata": {
      "needs_background": "light"
     },
     "output_type": "display_data"
    }
   ],
   "source": [
    "frequency = [2, 4, 2, 2]\n",
    "rightguesses = (\"4\",\"5\",\"6\",\"7\")\n",
    "bar_width = 0.9\n",
    "plt.bar(rightguesses, frequency, bar_width, align=\"center\")\n",
    "plt.xlabel(\"Correct guesses\")\n",
    "plt.ylabel(\"Frequency\")\n",
    "plt.title(\"User performance control group (n = 10)\")\n",
    "plt.savefig('up_control.png', facecolor='w')\n",
    "plt.show()"
   ]
  },
  {
   "cell_type": "code",
   "execution_count": 12,
   "id": "b54ccdc5",
   "metadata": {},
   "outputs": [
    {
     "data": {
      "text/plain": [
       "[7, 5, 7, 6, 6, 6, 5, 6, 6, 8]"
      ]
     },
     "execution_count": 12,
     "metadata": {},
     "output_type": "execute_result"
    }
   ],
   "source": [
    "# user performance treatment1\n",
    "measure_performance(treatment1, solutions, up)"
   ]
  },
  {
   "cell_type": "code",
   "execution_count": 13,
   "id": "980e0c47",
   "metadata": {},
   "outputs": [
    {
     "data": {
      "text/plain": [
       "6.2"
      ]
     },
     "execution_count": 13,
     "metadata": {},
     "output_type": "execute_result"
    }
   ],
   "source": [
    "np.mean(measure_performance(treatment1, solutions, up))"
   ]
  },
  {
   "cell_type": "code",
   "execution_count": 14,
   "id": "6cab3c5d",
   "metadata": {},
   "outputs": [
    {
     "data": {
      "text/plain": [
       "6.0"
      ]
     },
     "execution_count": 14,
     "metadata": {},
     "output_type": "execute_result"
    }
   ],
   "source": [
    "np.median(measure_performance(treatment1, solutions, up))"
   ]
  },
  {
   "cell_type": "code",
   "execution_count": 15,
   "id": "b23ecc1b",
   "metadata": {},
   "outputs": [
    {
     "data": {
      "text/plain": [
       "0.9189365834726815"
      ]
     },
     "execution_count": 15,
     "metadata": {},
     "output_type": "execute_result"
    }
   ],
   "source": [
    "stdtreat1 = np.std(measure_performance(treatment1, solutions, up))*np.sqrt(10/(10-1))\n",
    "stdtreat1"
   ]
  },
  {
   "cell_type": "code",
   "execution_count": 16,
   "id": "04e8fe57",
   "metadata": {},
   "outputs": [
    {
     "data": {
      "image/png": "[encoded data removed]",
      "text/plain": [
       "<Figure size 432x288 with 1 Axes>"
      ]
     },
     "metadata": {
      "needs_background": "light"
     },
     "output_type": "display_data"
    }
   ],
   "source": [
    "frequency = [2, 5, 2, 1]\n",
    "rightguesses = (\"5\",\"6\",\"7\",\"8\")\n",
    "bar_width = 0.9\n",
    "plt.bar(rightguesses, frequency, bar_width, align=\"center\")\n",
    "plt.xlabel(\"Correct guesses\")\n",
    "plt.ylabel(\"Frequency\")\n",
    "plt.title(\"User performance treatmentgroup 1 (n = 10)\")\n",
    "plt.savefig('up_treat1.png', facecolor='w')\n",
    "plt.show()"
   ]
  },
  {
   "cell_type": "code",
   "execution_count": 17,
   "id": "98ffbfdd",
   "metadata": {},
   "outputs": [
    {
     "data": {
      "text/plain": [
       "[7, 7, 7, 7, 8, 7, 7, 8, 6, 7]"
      ]
     },
     "execution_count": 17,
     "metadata": {},
     "output_type": "execute_result"
    }
   ],
   "source": [
    "# user performance treatment2\n",
    "measure_performance(treatment2, solutions, up)"
   ]
  },
  {
   "cell_type": "code",
   "execution_count": 18,
   "id": "222ead1b",
   "metadata": {},
   "outputs": [
    {
     "data": {
      "text/plain": [
       "7.1"
      ]
     },
     "execution_count": 18,
     "metadata": {},
     "output_type": "execute_result"
    }
   ],
   "source": [
    "np.mean(measure_performance(treatment2, solutions, up))"
   ]
  },
  {
   "cell_type": "code",
   "execution_count": 19,
   "id": "6f94beb7",
   "metadata": {},
   "outputs": [
    {
     "data": {
      "text/plain": [
       "7.0"
      ]
     },
     "execution_count": 19,
     "metadata": {},
     "output_type": "execute_result"
    }
   ],
   "source": [
    "np.median(measure_performance(treatment2, solutions, up))"
   ]
  },
  {
   "cell_type": "code",
   "execution_count": 20,
   "id": "ebcabafc",
   "metadata": {},
   "outputs": [
    {
     "data": {
      "text/plain": [
       "0.5676462121975467"
      ]
     },
     "execution_count": 20,
     "metadata": {},
     "output_type": "execute_result"
    }
   ],
   "source": [
    "stdtreat2 = np.std(measure_performance(treatment2, solutions, up))*np.sqrt(10/(10-1))\n",
    "stdtreat2"
   ]
  },
  {
   "cell_type": "code",
   "execution_count": 21,
   "id": "210fb811",
   "metadata": {
    "scrolled": true
   },
   "outputs": [
    {
     "data": {
      "image/png": "[encoded data removed]",
      "text/plain": [
       "<Figure size 432x288 with 1 Axes>"
      ]
     },
     "metadata": {
      "needs_background": "light"
     },
     "output_type": "display_data"
    }
   ],
   "source": [
    "frequency = [1, 7, 2]\n",
    "rightguesses = (\"6\",\"7\",\"8\")\n",
    "bar_width = 0.9\n",
    "plt.bar(rightguesses, frequency, bar_width, align=\"center\")\n",
    "plt.xlabel(\"Correct guesses\")\n",
    "plt.ylabel(\"Frequency\")\n",
    "plt.title(\"User performance treatment group 2 (n = 10)\")\n",
    "plt.savefig('up_treat2.png', facecolor='w')\n",
    "plt.show()"
   ]
  },
  {
   "cell_type": "code",
   "execution_count": 22,
   "id": "6bb725d6",
   "metadata": {},
   "outputs": [
    {
     "data": {
      "text/plain": [
       "0.26078968370361066"
      ]
     },
     "execution_count": 22,
     "metadata": {},
     "output_type": "execute_result"
    }
   ],
   "source": [
    "perfcontrol = measure_performance(controlgroup, solutions, up)\n",
    "perftreat1 = measure_performance(treatment1, solutions, up)\n",
    "perftreat2 = measure_performance(treatment2, solutions, up)\n",
    "stat, p = levene(perfcontrol, perftreat1, perftreat2)\n",
    "p"
   ]
  },
  {
   "cell_type": "code",
   "execution_count": 23,
   "id": "1994ffd2",
   "metadata": {},
   "outputs": [
    {
     "data": {
      "text/plain": [
       "0.26078968370361066"
      ]
     },
     "execution_count": 23,
     "metadata": {},
     "output_type": "execute_result"
    }
   ],
   "source": [
    "stat, p = levene(perfcontrol, perftreat1, perftreat2)\n",
    "p"
   ]
  },
  {
   "cell_type": "code",
   "execution_count": 24,
   "id": "0433eb99",
   "metadata": {
    "scrolled": true
   },
   "outputs": [
    {
     "data": {
      "text/plain": [
       "ShapiroResult(statistic=0.8916544914245605, pvalue=0.17699675261974335)"
      ]
     },
     "execution_count": 24,
     "metadata": {},
     "output_type": "execute_result"
    }
   ],
   "source": [
    "shapiro(perfcontrol)"
   ]
  },
  {
   "cell_type": "code",
   "execution_count": 25,
   "id": "212623c7",
   "metadata": {},
   "outputs": [
    {
     "data": {
      "text/plain": [
       "ShapiroResult(statistic=0.884986162185669, pvalue=0.14879781007766724)"
      ]
     },
     "execution_count": 25,
     "metadata": {},
     "output_type": "execute_result"
    }
   ],
   "source": [
    "shapiro(perftreat1)"
   ]
  },
  {
   "cell_type": "code",
   "execution_count": 26,
   "id": "de0777a1",
   "metadata": {},
   "outputs": [
    {
     "data": {
      "text/plain": [
       "ShapiroResult(statistic=0.751639723777771, pvalue=0.003736611921340227)"
      ]
     },
     "execution_count": 26,
     "metadata": {},
     "output_type": "execute_result"
    }
   ],
   "source": [
    "shapiro(perftreat2)"
   ]
  },
  {
   "cell_type": "code",
   "execution_count": 27,
   "id": "73379b9e",
   "metadata": {},
   "outputs": [
    {
     "data": {
      "image/png": "[encoded data removed]",
      "text/plain": [
       "<Figure size 432x288 with 1 Axes>"
      ]
     },
     "metadata": {
      "needs_background": "light"
     },
     "output_type": "display_data"
    }
   ],
   "source": [
    "up_boxplot = [perfcontrol, perftreat1, perftreat2]\n",
    "bp = plt.boxplot(up_boxplot, meanline=True, showmeans=True)\n",
    "plt.title(\"User performance of the three groups\")\n",
    "plt.xticks([1, 2, 3], ['Control group', 'Treatment group 1', 'Treatment group 2'])\n",
    "plt.xlabel(\"Groups\")\n",
    "plt.ylabel(\"Number of correct guesses\")\n",
    "plt.legend([bp['medians'][0], bp['means'][0]], ['median', 'mean'], loc = \"upper left\")\n",
    "plt.savefig('boxplot.png', facecolor='w')"
   ]
  },
  {
   "cell_type": "code",
   "execution_count": 28,
   "id": "ac50697a",
   "metadata": {},
   "outputs": [],
   "source": [
    "meancontrol = np.mean(measure_performance(controlgroup, solutions, up))\n",
    "stdcontrol = np.std(measure_performance(controlgroup, solutions, up))\n",
    "mean1 = np.mean(measure_performance(treatment1, solutions, up))\n",
    "std1 = np.std(measure_performance(treatment1, solutions, up))\n",
    "mean2 = np.mean(measure_performance(treatment2, solutions, up))\n",
    "std2 = np.std(measure_performance(treatment2, solutions, up))"
   ]
  },
  {
   "cell_type": "code",
   "execution_count": 29,
   "id": "8838edc9",
   "metadata": {},
   "outputs": [
    {
     "data": {
      "image/png": "[encoded data removed]",
      "text/plain": [
       "<Figure size 432x288 with 1 Axes>"
      ]
     },
     "metadata": {
      "needs_background": "light"
     },
     "output_type": "display_data"
    }
   ],
   "source": [
    "means = [meancontrol, mean1, mean2]\n",
    "groups = (\"Controlgroup\", \"Treatmentgroup 1\", \"Treatmentgroup 2\")\n",
    "bar_width = 0.9\n",
    "plt.bar(groups, means, bar_width, align=\"center\")\n",
    "plt.xlabel(\"Groups\")\n",
    "plt.ylabel(\"Mean Value\")\n",
    "plt.title(\"User performance mean values\")\n",
    "\n",
    "plt.tick_params(\n",
    "    axis='x',\n",
    "    which='both', \n",
    "    bottom=False  \n",
    ")\n",
    "plt.show()"
   ]
  },
  {
   "cell_type": "code",
   "execution_count": 30,
   "id": "16a6a45c",
   "metadata": {
    "scrolled": true
   },
   "outputs": [
    {
     "data": {
      "text/plain": [
       "Ttest_indResult(statistic=1.7888543819998315, pvalue=0.045240503678035185)"
      ]
     },
     "execution_count": 30,
     "metadata": {},
     "output_type": "execute_result"
    }
   ],
   "source": [
    "stats.ttest_ind(perftreat1, perfcontrol, alternative = \"greater\")"
   ]
  },
  {
   "cell_type": "code",
   "execution_count": 31,
   "id": "73df617c",
   "metadata": {},
   "outputs": [
    {
     "data": {
      "text/plain": [
       "Ttest_indResult(statistic=4.42226084457301, pvalue=0.00016443573053737456)"
      ]
     },
     "execution_count": 31,
     "metadata": {},
     "output_type": "execute_result"
    }
   ],
   "source": [
    "stats.ttest_ind(perftreat2, perfcontrol, alternative = \"greater\")"
   ]
  },
  {
   "cell_type": "code",
   "execution_count": 32,
   "id": "a1a2b804",
   "metadata": {},
   "outputs": [
    {
     "data": {
      "text/plain": [
       "Ttest_indResult(statistic=2.634930196961038, pvalue=0.008407790038821545)"
      ]
     },
     "execution_count": 32,
     "metadata": {},
     "output_type": "execute_result"
    }
   ],
   "source": [
    "stats.ttest_ind(perftreat2, perftreat1, alternative = \"greater\")"
   ]
  },
  {
   "cell_type": "code",
   "execution_count": 33,
   "id": "e1ed5c1a",
   "metadata": {},
   "outputs": [
    {
     "data": {
      "text/plain": [
       "MannwhitneyuResult(statistic=90.0, pvalue=0.0008124853492694906)"
      ]
     },
     "execution_count": 33,
     "metadata": {},
     "output_type": "execute_result"
    }
   ],
   "source": [
    "stats.mannwhitneyu(perftreat2, perfcontrol, alternative='greater')"
   ]
  },
  {
   "cell_type": "code",
   "execution_count": 34,
   "id": "077c4a09",
   "metadata": {
    "scrolled": true
   },
   "outputs": [
    {
     "data": {
      "text/plain": [
       "MannwhitneyuResult(statistic=79.5, pvalue=0.009712158241214592)"
      ]
     },
     "execution_count": 34,
     "metadata": {},
     "output_type": "execute_result"
    }
   ],
   "source": [
    "stats.mannwhitneyu(perftreat2, perftreat1, alternative='greater')"
   ]
  },
  {
   "cell_type": "code",
   "execution_count": 35,
   "id": "e0ac07d8",
   "metadata": {},
   "outputs": [],
   "source": [
    "#start learning outcome (lo)\n",
    "perfcontrolpre = measure_performance(controlgroup, solutions, pre)\n",
    "perftreat1pre = measure_performance(treatment1, solutions, pre)\n",
    "perftreat2pre = measure_performance(treatment2, solutions, pre)\n",
    "\n",
    "perfcontrolpost = measure_performance(controlgroup, solutions, post)\n",
    "perftreat1post = measure_performance(treatment1, solutions, post)\n",
    "perftreat2post = measure_performance(treatment2, solutions, post)"
   ]
  },
  {
   "cell_type": "code",
   "execution_count": 36,
   "id": "224c7f80",
   "metadata": {},
   "outputs": [
    {
     "data": {
      "text/plain": [
       "0.8700744551226007"
      ]
     },
     "execution_count": 36,
     "metadata": {},
     "output_type": "execute_result"
    }
   ],
   "source": [
    "stat, p = levene(perfcontrolpre, perftreat1pre, perftreat2pre)\n",
    "p"
   ]
  },
  {
   "cell_type": "code",
   "execution_count": 37,
   "id": "3aa9cf97",
   "metadata": {},
   "outputs": [
    {
     "data": {
      "text/plain": [
       "ShapiroResult(statistic=0.9318518042564392, pvalue=0.466352254152298)"
      ]
     },
     "execution_count": 37,
     "metadata": {},
     "output_type": "execute_result"
    }
   ],
   "source": [
    "shapiro(perfcontrolpre)"
   ]
  },
  {
   "cell_type": "code",
   "execution_count": 38,
   "id": "ed92eca4",
   "metadata": {},
   "outputs": [
    {
     "data": {
      "text/plain": [
       "ShapiroResult(statistic=0.8553237915039062, pvalue=0.06718982011079788)"
      ]
     },
     "execution_count": 38,
     "metadata": {},
     "output_type": "execute_result"
    }
   ],
   "source": [
    "shapiro(perftreat1pre)"
   ]
  },
  {
   "cell_type": "code",
   "execution_count": 39,
   "id": "708e4d63",
   "metadata": {},
   "outputs": [
    {
     "data": {
      "text/plain": [
       "ShapiroResult(statistic=0.8433137536048889, pvalue=0.04834360256791115)"
      ]
     },
     "execution_count": 39,
     "metadata": {},
     "output_type": "execute_result"
    }
   ],
   "source": [
    "shapiro(perftreat2pre)"
   ]
  },
  {
   "cell_type": "code",
   "execution_count": 40,
   "id": "b30aca5c",
   "metadata": {},
   "outputs": [
    {
     "data": {
      "text/plain": [
       "KruskalResult(statistic=0.89721819061442, pvalue=0.6385156486789494)"
      ]
     },
     "execution_count": 40,
     "metadata": {},
     "output_type": "execute_result"
    }
   ],
   "source": [
    "stats.kruskal(perfcontrolpre, perftreat1pre, perftreat2pre)"
   ]
  },
  {
   "cell_type": "code",
   "execution_count": 41,
   "id": "e254fac8",
   "metadata": {},
   "outputs": [
    {
     "data": {
      "text/plain": [
       "[1, 2, 1, 2, 3, 4, 1, 0, 0, 3]"
      ]
     },
     "execution_count": 41,
     "metadata": {},
     "output_type": "execute_result"
    }
   ],
   "source": [
    "perfcontrolpre"
   ]
  },
  {
   "cell_type": "code",
   "execution_count": 42,
   "id": "d4b1b7ef",
   "metadata": {
    "scrolled": true
   },
   "outputs": [
    {
     "data": {
      "image/png": "[encoded data removed]",
      "text/plain": [
       "<Figure size 432x288 with 1 Axes>"
      ]
     },
     "metadata": {
      "needs_background": "light"
     },
     "output_type": "display_data"
    }
   ],
   "source": [
    "frequency = [2, 3, 2, 2, 1]\n",
    "rightguesses = (\"0\",\"1\",\"2\",\"3\",\"4\")\n",
    "bar_width = 0.9\n",
    "plt.bar(rightguesses, frequency, bar_width, align=\"center\")\n",
    "plt.xlabel(\"Correct guesses\")\n",
    "plt.ylabel(\"Frequency\")\n",
    "plt.title(\"Pre-test control group (n = 10)\")\n",
    "plt.savefig('precontrol.png', facecolor='w')\n",
    "plt.show()"
   ]
  },
  {
   "cell_type": "code",
   "execution_count": 43,
   "id": "d5f45971",
   "metadata": {},
   "outputs": [
    {
     "data": {
      "text/plain": [
       "[1, 4, 2, 3, 4, 2, 2, 3, 3, 2]"
      ]
     },
     "execution_count": 43,
     "metadata": {},
     "output_type": "execute_result"
    }
   ],
   "source": [
    "perfcontrolpost"
   ]
  },
  {
   "cell_type": "code",
   "execution_count": 44,
   "id": "504417dc",
   "metadata": {},
   "outputs": [
    {
     "data": {
      "image/png": "[encoded data removed]",
      "text/plain": [
       "<Figure size 432x288 with 1 Axes>"
      ]
     },
     "metadata": {
      "needs_background": "light"
     },
     "output_type": "display_data"
    }
   ],
   "source": [
    "frequency = [0, 1, 4, 3, 2]\n",
    "rightguesses = (\"0\",\"1\",\"2\",\"3\",\"4\")\n",
    "bar_width = 0.9\n",
    "plt.bar(rightguesses, frequency, bar_width, align=\"center\")\n",
    "plt.xlabel(\"Correct guesses\")\n",
    "plt.ylabel(\"Frequency\")\n",
    "plt.title(\"Post-test control group (n = 10)\")\n",
    "plt.savefig('postcontrol.png', facecolor='w')\n",
    "plt.show()"
   ]
  },
  {
   "cell_type": "code",
   "execution_count": 45,
   "id": "2d5c0a7a",
   "metadata": {},
   "outputs": [
    {
     "data": {
      "text/plain": [
       "[1, 2, 3, 3, 1, 0, 3, 1, 3, 2]"
      ]
     },
     "execution_count": 45,
     "metadata": {},
     "output_type": "execute_result"
    }
   ],
   "source": [
    "perftreat1pre"
   ]
  },
  {
   "cell_type": "code",
   "execution_count": 46,
   "id": "2cbead7f",
   "metadata": {},
   "outputs": [
    {
     "data": {
      "image/png": "[encoded data removed]",
      "text/plain": [
       "<Figure size 432x288 with 1 Axes>"
      ]
     },
     "metadata": {
      "needs_background": "light"
     },
     "output_type": "display_data"
    }
   ],
   "source": [
    "frequency = [1, 3, 2, 4, 0]\n",
    "rightguesses = (\"0\",\"1\",\"2\",\"3\",\"4\")\n",
    "bar_width = 0.9\n",
    "plt.bar(rightguesses, frequency, bar_width, align=\"center\")\n",
    "plt.xlabel(\"Correct guesses\")\n",
    "plt.ylabel(\"Frequency\")\n",
    "plt.title(\"Pre-test treatment group 1 (n = 10)\")\n",
    "plt.savefig('pretreat1.png', facecolor='w')\n",
    "plt.show()"
   ]
  },
  {
   "cell_type": "code",
   "execution_count": 47,
   "id": "176c4ec6",
   "metadata": {},
   "outputs": [
    {
     "data": {
      "text/plain": [
       "[1, 2, 2, 1, 3, 4, 3, 2, 1, 4]"
      ]
     },
     "execution_count": 47,
     "metadata": {},
     "output_type": "execute_result"
    }
   ],
   "source": [
    "perftreat1post"
   ]
  },
  {
   "cell_type": "code",
   "execution_count": 48,
   "id": "0d172eed",
   "metadata": {},
   "outputs": [
    {
     "data": {
      "image/png": "[encoded data removed]",
      "text/plain": [
       "<Figure size 432x288 with 1 Axes>"
      ]
     },
     "metadata": {
      "needs_background": "light"
     },
     "output_type": "display_data"
    }
   ],
   "source": [
    "frequency = [0, 3, 3, 2, 2]\n",
    "rightguesses = (\"0\",\"1\",\"2\",\"3\",\"4\")\n",
    "bar_width = 0.9\n",
    "plt.bar(rightguesses, frequency, bar_width, align=\"center\")\n",
    "plt.xlabel(\"Correct guesses\")\n",
    "plt.ylabel(\"Frequency\")\n",
    "plt.title(\"Post-test treatment group 1 (n = 10)\")\n",
    "plt.savefig('posttreat1.png', facecolor='w')\n",
    "plt.show()"
   ]
  },
  {
   "cell_type": "code",
   "execution_count": 49,
   "id": "07aa0c01",
   "metadata": {},
   "outputs": [
    {
     "data": {
      "text/plain": [
       "[3, 1, 4, 1, 3, 1, 0, 3, 3, 3]"
      ]
     },
     "execution_count": 49,
     "metadata": {},
     "output_type": "execute_result"
    }
   ],
   "source": [
    "perftreat2pre"
   ]
  },
  {
   "cell_type": "code",
   "execution_count": 50,
   "id": "72902071",
   "metadata": {},
   "outputs": [
    {
     "data": {
      "image/png": "[encoded data removed]",
      "text/plain": [
       "<Figure size 432x288 with 1 Axes>"
      ]
     },
     "metadata": {
      "needs_background": "light"
     },
     "output_type": "display_data"
    }
   ],
   "source": [
    "frequency = [1, 3, 0, 5, 1]\n",
    "rightguesses = (\"0\",\"1\",\"2\",\"3\",\"4\")\n",
    "bar_width = 0.9\n",
    "plt.bar(rightguesses, frequency, bar_width, align=\"center\")\n",
    "plt.xlabel(\"Correct guesses\")\n",
    "plt.ylabel(\"Frequency\")\n",
    "plt.title(\"Pre-test treatment group 2 (n = 10)\")\n",
    "plt.savefig('pretreat2.png', facecolor='w')\n",
    "plt.show()"
   ]
  },
  {
   "cell_type": "code",
   "execution_count": 51,
   "id": "6c38a13e",
   "metadata": {},
   "outputs": [
    {
     "data": {
      "text/plain": [
       "[2, 2, 2, 1, 2, 1, 2, 3, 2, 3]"
      ]
     },
     "execution_count": 51,
     "metadata": {},
     "output_type": "execute_result"
    }
   ],
   "source": [
    "perftreat2post"
   ]
  },
  {
   "cell_type": "code",
   "execution_count": 52,
   "id": "335b739e",
   "metadata": {},
   "outputs": [
    {
     "data": {
      "image/png": "[encoded data removed]",
      "text/plain": [
       "<Figure size 432x288 with 1 Axes>"
      ]
     },
     "metadata": {
      "needs_background": "light"
     },
     "output_type": "display_data"
    }
   ],
   "source": [
    "frequency = [0, 2, 6, 2, 0]\n",
    "rightguesses = (\"0\",\"1\",\"2\",\"3\",\"4\")\n",
    "bar_width = 0.9\n",
    "plt.bar(rightguesses, frequency, bar_width, align=\"center\")\n",
    "plt.xlabel(\"Correct guesses\")\n",
    "plt.ylabel(\"Frequency\")\n",
    "plt.title(\"Post-test treatment group 2 (n = 10)\")\n",
    "plt.savefig('posttreat2.png', facecolor='w')\n",
    "plt.show()"
   ]
  },
  {
   "cell_type": "code",
   "execution_count": 53,
   "id": "273d5881",
   "metadata": {},
   "outputs": [
    {
     "data": {
      "text/plain": [
       "F_onewayResult(statistic=0.4014084507042254, pvalue=0.6733052818140275)"
      ]
     },
     "execution_count": 53,
     "metadata": {},
     "output_type": "execute_result"
    }
   ],
   "source": [
    "#ANOVA Test\n",
    "f_oneway(perfcontrolpre, perftreat1pre, perftreat2pre)"
   ]
  },
  {
   "cell_type": "code",
   "execution_count": 54,
   "id": "cb13ce21",
   "metadata": {
    "scrolled": true
   },
   "outputs": [],
   "source": [
    "locontrol = []\n",
    "for i in range(0,10):\n",
    "    lo = perfcontrolpost[i]-perfcontrolpre[i]\n",
    "    locontrol.append(lo)"
   ]
  },
  {
   "cell_type": "code",
   "execution_count": 55,
   "id": "899f8c38",
   "metadata": {},
   "outputs": [
    {
     "data": {
      "text/plain": [
       "[0, 2, 1, 1, 1, -2, 1, 3, 3, -1]"
      ]
     },
     "execution_count": 55,
     "metadata": {},
     "output_type": "execute_result"
    }
   ],
   "source": [
    "locontrol"
   ]
  },
  {
   "cell_type": "code",
   "execution_count": 56,
   "id": "5da4477f",
   "metadata": {},
   "outputs": [
    {
     "data": {
      "image/png": "[encoded data removed]",
      "text/plain": [
       "<Figure size 432x288 with 1 Axes>"
      ]
     },
     "metadata": {
      "needs_background": "light"
     },
     "output_type": "display_data"
    }
   ],
   "source": [
    "frequency = [1,1,1, 4, 1, 2, 0]\n",
    "rightguesses = (\"-2\",\"-1\",\"0\",\"1\",\"2\",\"3\",\"4\")\n",
    "bar_width = 0.9\n",
    "plt.bar(rightguesses, frequency, bar_width, align=\"center\")\n",
    "plt.xlabel(\"Learning outcome\")\n",
    "plt.ylabel(\"Frequency\")\n",
    "plt.title(\"Learning outcome control group (n = 10)\")\n",
    "plt.savefig('locontrol.png', facecolor='w')\n",
    "plt.show()"
   ]
  },
  {
   "cell_type": "code",
   "execution_count": 57,
   "id": "20f9d17c",
   "metadata": {},
   "outputs": [],
   "source": [
    "lotreat1 = []\n",
    "for i in range(0,10):\n",
    "    lo = perftreat1post[i]-perftreat1pre[i]\n",
    "    lotreat1.append(lo)"
   ]
  },
  {
   "cell_type": "code",
   "execution_count": 58,
   "id": "dd4e5379",
   "metadata": {
    "scrolled": true
   },
   "outputs": [
    {
     "data": {
      "text/plain": [
       "[0, 0, -1, -2, 2, 4, 0, 1, -2, 2]"
      ]
     },
     "execution_count": 58,
     "metadata": {},
     "output_type": "execute_result"
    }
   ],
   "source": [
    "lotreat1"
   ]
  },
  {
   "cell_type": "code",
   "execution_count": 59,
   "id": "9d043840",
   "metadata": {},
   "outputs": [
    {
     "data": {
      "image/png": "[encoded data removed]",
      "text/plain": [
       "<Figure size 432x288 with 1 Axes>"
      ]
     },
     "metadata": {
      "needs_background": "light"
     },
     "output_type": "display_data"
    }
   ],
   "source": [
    "frequency = [2,1,3,1,2,0,1]\n",
    "rightguesses = (\"-2\",\"-1\",\"0\",\"1\",\"2\",\"3\",\"4\")\n",
    "bar_width = 0.9\n",
    "plt.bar(rightguesses, frequency, bar_width, align=\"center\")\n",
    "plt.xlabel(\"Learning outcome\")\n",
    "plt.ylabel(\"Frequency\")\n",
    "plt.title(\"Learning outcome treatment group 1 (n = 10)\")\n",
    "plt.savefig('lotreat1.png', facecolor='w')\n",
    "plt.show()"
   ]
  },
  {
   "cell_type": "code",
   "execution_count": 60,
   "id": "6a9da5b2",
   "metadata": {},
   "outputs": [],
   "source": [
    "lotreat2 = []\n",
    "for i in range(0,10):\n",
    "    lo = perftreat2post[i]-perftreat2pre[i]\n",
    "    lotreat2.append(lo)"
   ]
  },
  {
   "cell_type": "code",
   "execution_count": 61,
   "id": "36b7611b",
   "metadata": {
    "scrolled": true
   },
   "outputs": [
    {
     "data": {
      "text/plain": [
       "[-1, 1, -2, 0, -1, 0, 2, 0, -1, 0]"
      ]
     },
     "execution_count": 61,
     "metadata": {},
     "output_type": "execute_result"
    }
   ],
   "source": [
    "lotreat2"
   ]
  },
  {
   "cell_type": "code",
   "execution_count": 62,
   "id": "ca5fbbbc",
   "metadata": {},
   "outputs": [
    {
     "data": {
      "image/png": "[encoded data removed]",
      "text/plain": [
       "<Figure size 432x288 with 1 Axes>"
      ]
     },
     "metadata": {
      "needs_background": "light"
     },
     "output_type": "display_data"
    }
   ],
   "source": [
    "frequency = [1,3,4,1,1,0,0]\n",
    "rightguesses = (\"-2\",\"-1\",\"0\",\"1\",\"2\",\"3\",\"4\")\n",
    "bar_width = 0.9\n",
    "plt.bar(rightguesses, frequency, bar_width, align=\"center\")\n",
    "plt.xlabel(\"Learning outcome\")\n",
    "plt.ylabel(\"Frequency\")\n",
    "plt.title(\"Learning outcome treatment group 2 (n = 10)\")\n",
    "plt.savefig('lotreat2.png', facecolor='w')\n",
    "plt.show()"
   ]
  },
  {
   "cell_type": "code",
   "execution_count": 63,
   "id": "1876f60a",
   "metadata": {},
   "outputs": [
    {
     "data": {
      "text/plain": [
       "0.9"
      ]
     },
     "execution_count": 63,
     "metadata": {},
     "output_type": "execute_result"
    }
   ],
   "source": [
    "meanlocontrol = np.mean(locontrol)\n",
    "meanlocontrol"
   ]
  },
  {
   "cell_type": "code",
   "execution_count": 64,
   "id": "01885cd8",
   "metadata": {},
   "outputs": [
    {
     "data": {
      "text/plain": [
       "0.4"
      ]
     },
     "execution_count": 64,
     "metadata": {},
     "output_type": "execute_result"
    }
   ],
   "source": [
    "meanlotreat1 = np.mean(lotreat1)\n",
    "meanlotreat1"
   ]
  },
  {
   "cell_type": "code",
   "execution_count": 65,
   "id": "c2f5e660",
   "metadata": {
    "scrolled": true
   },
   "outputs": [
    {
     "data": {
      "text/plain": [
       "-0.2"
      ]
     },
     "execution_count": 65,
     "metadata": {},
     "output_type": "execute_result"
    }
   ],
   "source": [
    "meanlotreat2 = np.mean(lotreat2)\n",
    "meanlotreat2"
   ]
  },
  {
   "cell_type": "code",
   "execution_count": 66,
   "id": "795b7f33",
   "metadata": {},
   "outputs": [
    {
     "data": {
      "text/plain": [
       "1.0"
      ]
     },
     "execution_count": 66,
     "metadata": {},
     "output_type": "execute_result"
    }
   ],
   "source": [
    "medianlocontrol = np.median(locontrol)\n",
    "medianlocontrol"
   ]
  },
  {
   "cell_type": "code",
   "execution_count": 67,
   "id": "9cfd7268",
   "metadata": {},
   "outputs": [
    {
     "data": {
      "text/plain": [
       "0.0"
      ]
     },
     "execution_count": 67,
     "metadata": {},
     "output_type": "execute_result"
    }
   ],
   "source": [
    "medianlotreat1 = np.median(lotreat1)\n",
    "medianlotreat1"
   ]
  },
  {
   "cell_type": "code",
   "execution_count": 68,
   "id": "60846ed6",
   "metadata": {},
   "outputs": [
    {
     "data": {
      "text/plain": [
       "0.0"
      ]
     },
     "execution_count": 68,
     "metadata": {},
     "output_type": "execute_result"
    }
   ],
   "source": [
    "medianlotreat2 = np.median(lotreat2)\n",
    "medianlotreat2"
   ]
  },
  {
   "cell_type": "code",
   "execution_count": 69,
   "id": "406e00a4",
   "metadata": {},
   "outputs": [
    {
     "data": {
      "text/plain": [
       "1.5951314818673865"
      ]
     },
     "execution_count": 69,
     "metadata": {},
     "output_type": "execute_result"
    }
   ],
   "source": [
    "stdlocontrol = np.std(locontrol)*np.sqrt(10/(10-1))\n",
    "stdlocontrol"
   ]
  },
  {
   "cell_type": "code",
   "execution_count": 70,
   "id": "39bde048",
   "metadata": {},
   "outputs": [
    {
     "data": {
      "text/plain": [
       "1.897366596101028"
      ]
     },
     "execution_count": 70,
     "metadata": {},
     "output_type": "execute_result"
    }
   ],
   "source": [
    "stdlotreat1 = np.std(lotreat1)*np.sqrt(10/(10-1))\n",
    "stdlotreat1"
   ]
  },
  {
   "cell_type": "code",
   "execution_count": 71,
   "id": "29651997",
   "metadata": {},
   "outputs": [
    {
     "data": {
      "text/plain": [
       "1.1352924243950937"
      ]
     },
     "execution_count": 71,
     "metadata": {},
     "output_type": "execute_result"
    }
   ],
   "source": [
    "stdlotreat2 = np.std(lotreat2)*np.sqrt(10/(10-1))\n",
    "stdlotreat2"
   ]
  },
  {
   "cell_type": "code",
   "execution_count": 72,
   "id": "facb311d",
   "metadata": {},
   "outputs": [],
   "source": [
    "meancontrolpre = np.mean(measure_performance(controlgroup, solutions, pre))\n",
    "mean1pre = np.mean(measure_performance(treatment1, solutions, pre))\n",
    "mean2pre = np.mean(measure_performance(treatment2, solutions, pre))\n",
    "\n",
    "meancontrolpost = np.mean(measure_performance(controlgroup, solutions, post))\n",
    "mean1post = np.mean(measure_performance(treatment1, solutions, post))\n",
    "mean2post = np.mean(measure_performance(treatment2, solutions, post))"
   ]
  },
  {
   "cell_type": "code",
   "execution_count": 73,
   "id": "1da97b4e",
   "metadata": {
    "scrolled": true
   },
   "outputs": [
    {
     "data": {
      "image/png": "[encoded data removed]",
      "text/plain": [
       "<Figure size 432x288 with 1 Axes>"
      ]
     },
     "metadata": {
      "needs_background": "light"
     },
     "output_type": "display_data"
    }
   ],
   "source": [
    "labels = ['Control group', 'Treatment group 1', 'Treatment group 2']\n",
    "y1 = [meancontrolpre, mean1pre, mean2pre] \n",
    "y2 = [meancontrolpost, mean1post, mean2post] \n",
    "y3 = [meanlocontrol, meanlotreat1, meanlotreat2]\n",
    "\n",
    "x = np.arange(3)\n",
    "width = 0.2\n",
    "\n",
    "fig, ax = plt.subplots()\n",
    "rects1 = ax.bar(x-0.2, y1, width, label=\"Pre-test\")\n",
    "rects11 = ax.bar(x, y2, width, label=\"Post-test\")\n",
    "rects2 = ax.bar(x+0.2, y3, width, label=\"Learning outcome\")\n",
    "\n",
    "\n",
    "ax.set_ylabel('Mean values')\n",
    "ax.set_title('Mean values of the different groups')\n",
    "ax.set_xticks(x)\n",
    "ax.set_xticklabels(labels)\n",
    "\n",
    "ax.legend(loc=\"upper right\")\n",
    "\n",
    "def autolabel(rects):\n",
    "    \"\"\"Attach a text label above each bar in *rects*, displaying its height.\"\"\"\n",
    "    for rect in rects:\n",
    "        height = rect.get_height()\n",
    "        ax.annotate('{}'.format(height),\n",
    "                    xy=(rect.get_x() + rect.get_width() / 2, height),\n",
    "                    xytext=(0, 3), \n",
    "                    textcoords=\"offset points\",\n",
    "                    ha='center', va='bottom')\n",
    "\n",
    "\n",
    "autolabel(rects1)\n",
    "autolabel(rects2)\n",
    "autolabel(rects11)\n",
    "#plt.rcParams[\"figure.figsize\"] = (12, 10)\n",
    "#plt.savefig('meanvalueslo.png', facecolor='w')\n",
    "plt.show()"
   ]
  },
  {
   "cell_type": "code",
   "execution_count": 74,
   "id": "dc7f49b0",
   "metadata": {},
   "outputs": [
    {
     "data": {
      "text/plain": [
       "0.4656341360502178"
      ]
     },
     "execution_count": 74,
     "metadata": {},
     "output_type": "execute_result"
    }
   ],
   "source": [
    "stat, p = levene(locontrol, lotreat1, lotreat2)\n",
    "p"
   ]
  },
  {
   "cell_type": "code",
   "execution_count": 75,
   "id": "da55c21e",
   "metadata": {},
   "outputs": [
    {
     "data": {
      "text/plain": [
       "0.2192866994521118"
      ]
     },
     "execution_count": 75,
     "metadata": {},
     "output_type": "execute_result"
    }
   ],
   "source": [
    "stat, p = levene(lotreat1, lotreat2)\n",
    "p"
   ]
  },
  {
   "cell_type": "code",
   "execution_count": 76,
   "id": "702524e6",
   "metadata": {},
   "outputs": [
    {
     "data": {
      "text/plain": [
       "ShapiroResult(statistic=0.9293087720870972, pvalue=0.4411277770996094)"
      ]
     },
     "execution_count": 76,
     "metadata": {},
     "output_type": "execute_result"
    }
   ],
   "source": [
    "shapiro(locontrol)"
   ]
  },
  {
   "cell_type": "code",
   "execution_count": 77,
   "id": "fa7ba70e",
   "metadata": {},
   "outputs": [
    {
     "data": {
      "text/plain": [
       "ShapiroResult(statistic=0.941809892654419, pvalue=0.573322594165802)"
      ]
     },
     "execution_count": 77,
     "metadata": {},
     "output_type": "execute_result"
    }
   ],
   "source": [
    "shapiro(lotreat1)"
   ]
  },
  {
   "cell_type": "code",
   "execution_count": 78,
   "id": "f46f93f8",
   "metadata": {},
   "outputs": [
    {
     "data": {
      "text/plain": [
       "ShapiroResult(statistic=0.9330770969390869, pvalue=0.4788319766521454)"
      ]
     },
     "execution_count": 78,
     "metadata": {},
     "output_type": "execute_result"
    }
   ],
   "source": [
    "shapiro(lotreat2)"
   ]
  },
  {
   "cell_type": "code",
   "execution_count": 79,
   "id": "354350d1",
   "metadata": {},
   "outputs": [
    {
     "data": {
      "text/plain": [
       "Ttest_indResult(statistic=-0.6378648833438434, pvalue=0.7342034493519449)"
      ]
     },
     "execution_count": 79,
     "metadata": {},
     "output_type": "execute_result"
    }
   ],
   "source": [
    "stats.ttest_ind(lotreat1, locontrol, alternative = \"greater\")"
   ]
  },
  {
   "cell_type": "code",
   "execution_count": 80,
   "id": "a8384bf7",
   "metadata": {},
   "outputs": [
    {
     "data": {
      "text/plain": [
       "Ttest_indResult(statistic=-1.7766602767919464, pvalue=0.9537357916803184)"
      ]
     },
     "execution_count": 80,
     "metadata": {},
     "output_type": "execute_result"
    }
   ],
   "source": [
    "stats.ttest_ind(lotreat2, locontrol, alternative = \"greater\")"
   ]
  },
  {
   "cell_type": "code",
   "execution_count": 81,
   "id": "19eee9d0",
   "metadata": {},
   "outputs": [
    {
     "data": {
      "text/plain": [
       "Ttest_indResult(statistic=-0.8581163303210332, pvalue=0.7989447227073263)"
      ]
     },
     "execution_count": 81,
     "metadata": {},
     "output_type": "execute_result"
    }
   ],
   "source": [
    "stats.ttest_ind(lotreat2, lotreat1, alternative = \"greater\")"
   ]
  },
  {
   "cell_type": "code",
   "execution_count": 82,
   "id": "40023599",
   "metadata": {},
   "outputs": [],
   "source": [
    "#Comparison of the pre- and post-tests\n",
    "perfcontrolpre = measure_performance(controlgroup, solutions, pre)\n",
    "perftreat1pre = measure_performance(treatment1, solutions, pre)\n",
    "perftreat2pre = measure_performance(treatment2, solutions, pre)\n",
    "perfcontrolpost = measure_performance(controlgroup, solutions, post)\n",
    "perftreat1post = measure_performance(treatment1, solutions, post)\n",
    "perftreat2post = measure_performance(treatment2, solutions, post)\n",
    "\n",
    "meancontrolpre = np.mean(perfcontrolpre)\n",
    "meantreat1pre = np.mean(perftreat1pre)\n",
    "meantreat2pre = np.mean(perftreat2pre)\n",
    "meancontrolpost = np.mean(perfcontrolpost)\n",
    "meantreat1post = np.mean(perftreat1post)\n",
    "meantreat2post = np.mean(perftreat2post)\n",
    "\n",
    "stdcontrolpre = np.std(perfcontrolpre)*np.sqrt(10/(10-1))\n",
    "stdtreat1pre = np.std(perftreat1pre)*np.sqrt(10/(10-1))\n",
    "stdtreat2pre = np.std(perftreat2pre)*np.sqrt(10/(10-1))\n",
    "stdcontrolpost = np.std(perfcontrolpost)*np.sqrt(10/(10-1))\n",
    "stdtreat1post = np.std(perftreat1post)*np.sqrt(10/(10-1))\n",
    "stdtreat2post = np.std(perftreat2post)*np.sqrt(10/(10-1))"
   ]
  },
  {
   "cell_type": "code",
   "execution_count": 83,
   "id": "a49788e2",
   "metadata": {},
   "outputs": [
    {
     "data": {
      "text/plain": [
       "0.2789692225398474"
      ]
     },
     "execution_count": 83,
     "metadata": {},
     "output_type": "execute_result"
    }
   ],
   "source": [
    "stat, p = levene(perfcontrolpre, perfcontrolpost)\n",
    "p"
   ]
  },
  {
   "cell_type": "code",
   "execution_count": 84,
   "id": "b462e6a1",
   "metadata": {},
   "outputs": [
    {
     "data": {
      "text/plain": [
       "1.0"
      ]
     },
     "execution_count": 84,
     "metadata": {},
     "output_type": "execute_result"
    }
   ],
   "source": [
    "stat, p = levene(perftreat1pre, perftreat1post)\n",
    "p"
   ]
  },
  {
   "cell_type": "code",
   "execution_count": 85,
   "id": "3ba4ccf0",
   "metadata": {},
   "outputs": [
    {
     "data": {
      "text/plain": [
       "0.1509504521842673"
      ]
     },
     "execution_count": 85,
     "metadata": {},
     "output_type": "execute_result"
    }
   ],
   "source": [
    "stat, p = levene(perftreat2pre, perftreat2post)\n",
    "p"
   ]
  },
  {
   "cell_type": "code",
   "execution_count": 86,
   "id": "51bc2e48",
   "metadata": {},
   "outputs": [
    {
     "data": {
      "text/plain": [
       "ShapiroResult(statistic=0.9318518042564392, pvalue=0.466352254152298)"
      ]
     },
     "execution_count": 86,
     "metadata": {},
     "output_type": "execute_result"
    }
   ],
   "source": [
    "shapiro(perfcontrolpre)"
   ]
  },
  {
   "cell_type": "code",
   "execution_count": 87,
   "id": "f1320e39",
   "metadata": {},
   "outputs": [
    {
     "data": {
      "text/plain": [
       "ShapiroResult(statistic=0.9044357538223267, pvalue=0.2449132353067398)"
      ]
     },
     "execution_count": 87,
     "metadata": {},
     "output_type": "execute_result"
    }
   ],
   "source": [
    "shapiro(perfcontrolpost)"
   ]
  },
  {
   "cell_type": "code",
   "execution_count": 88,
   "id": "6b512aab",
   "metadata": {},
   "outputs": [
    {
     "data": {
      "text/plain": [
       "Ttest_relResult(statistic=1.7842102212287425, pvalue=0.05402762117300975)"
      ]
     },
     "execution_count": 88,
     "metadata": {},
     "output_type": "execute_result"
    }
   ],
   "source": [
    "stats.ttest_rel(perfcontrolpost, perfcontrolpre, alternative = \"greater\")"
   ]
  },
  {
   "cell_type": "code",
   "execution_count": 89,
   "id": "85a20d59",
   "metadata": {},
   "outputs": [
    {
     "data": {
      "text/plain": [
       "ShapiroResult(statistic=0.8553237915039062, pvalue=0.06718982011079788)"
      ]
     },
     "execution_count": 89,
     "metadata": {},
     "output_type": "execute_result"
    }
   ],
   "source": [
    "shapiro(perftreat1pre)"
   ]
  },
  {
   "cell_type": "code",
   "execution_count": 90,
   "id": "8f38bc2e",
   "metadata": {},
   "outputs": [
    {
     "data": {
      "text/plain": [
       "ShapiroResult(statistic=0.878067672252655, pvalue=0.12398342788219452)"
      ]
     },
     "execution_count": 90,
     "metadata": {},
     "output_type": "execute_result"
    }
   ],
   "source": [
    "shapiro(perftreat1post)"
   ]
  },
  {
   "cell_type": "code",
   "execution_count": 91,
   "id": "71551741",
   "metadata": {},
   "outputs": [
    {
     "data": {
      "text/plain": [
       "Ttest_relResult(statistic=0.6666666666666666, pvalue=0.26085346354070793)"
      ]
     },
     "execution_count": 91,
     "metadata": {},
     "output_type": "execute_result"
    }
   ],
   "source": [
    "stats.ttest_rel(perftreat1post, perftreat1pre, alternative = \"greater\")"
   ]
  },
  {
   "cell_type": "code",
   "execution_count": 92,
   "id": "90813297",
   "metadata": {},
   "outputs": [
    {
     "data": {
      "text/plain": [
       "ShapiroResult(statistic=0.8433137536048889, pvalue=0.04834360256791115)"
      ]
     },
     "execution_count": 92,
     "metadata": {},
     "output_type": "execute_result"
    }
   ],
   "source": [
    "shapiro(perftreat2pre)"
   ]
  },
  {
   "cell_type": "code",
   "execution_count": 93,
   "id": "063e6ce2",
   "metadata": {
    "scrolled": true
   },
   "outputs": [
    {
     "data": {
      "text/plain": [
       "ShapiroResult(statistic=0.8148398399353027, pvalue=0.021947871893644333)"
      ]
     },
     "execution_count": 93,
     "metadata": {},
     "output_type": "execute_result"
    }
   ],
   "source": [
    "shapiro(perftreat2post)"
   ]
  },
  {
   "cell_type": "code",
   "execution_count": 94,
   "id": "ff2520f1",
   "metadata": {},
   "outputs": [
    {
     "data": {
      "text/plain": [
       "Ttest_relResult(statistic=-0.5570860145311556, pvalue=0.7044743841081977)"
      ]
     },
     "execution_count": 94,
     "metadata": {},
     "output_type": "execute_result"
    }
   ],
   "source": [
    "stats.ttest_rel(perftreat2post, perftreat2pre, alternative = \"greater\")"
   ]
  },
  {
   "cell_type": "code",
   "execution_count": 95,
   "id": "f8a59239",
   "metadata": {},
   "outputs": [
    {
     "name": "stderr",
     "output_type": "stream",
     "text": [
      "C:\\Users\\denkp\\anaconda3\\lib\\site-packages\\scipy\\stats\\morestats.py:2967: UserWarning: Exact p-value calculation does not work if there are ties. Switching to normal approximation.\n",
      "  warnings.warn(\"Exact p-value calculation does not work if there are \"\n",
      "C:\\Users\\denkp\\anaconda3\\lib\\site-packages\\scipy\\stats\\morestats.py:2981: UserWarning: Sample size too small for normal approximation.\n",
      "  warnings.warn(\"Sample size too small for normal approximation.\")\n"
     ]
    },
    {
     "data": {
      "text/plain": [
       "(8.0, 0.705655933024055)"
      ]
     },
     "execution_count": 95,
     "metadata": {},
     "output_type": "execute_result"
    }
   ],
   "source": [
    "res = wilcoxon(perftreat2post, perftreat2pre, alternative = \"greater\")\n",
    "res.statistic, res.pvalue"
   ]
  },
  {
   "cell_type": "code",
   "execution_count": 96,
   "id": "5a9ec82e",
   "metadata": {},
   "outputs": [
    {
     "data": {
      "image/png": "[encoded data removed]",
      "text/plain": [
       "<Figure size 432x288 with 1 Axes>"
      ]
     },
     "metadata": {},
     "output_type": "display_data"
    }
   ],
   "source": [
    "listberlin = df['Berlin'].tolist()\n",
    "listhamburg = df['Hamburg'].tolist()\n",
    "listjerusalem = df['Jerusalem'].tolist()\n",
    "listtelaviv = df['TelAviv'].tolist()\n",
    "countberlin = listberlin.count(1)\n",
    "counthamburg = listhamburg.count(1)\n",
    "countjerusalem = listjerusalem.count(1)\n",
    "counttelaviv = listtelaviv.count(1)\n",
    "\n",
    "cities = [\"Berlin\", \"Hamburg\", \"Jerusalem\", \"Tel Aviv\"]\n",
    "numbers = [countberlin, counthamburg, countjerusalem, counttelaviv]\n",
    "plt.title(\"Visited cities\", fontsize = 12)\n",
    "\n",
    "plt.pie(numbers, labels = cities)\n",
    "plt.savefig('visited_cities.png', facecolor='w')\n",
    "plt.show()"
   ]
  },
  {
   "cell_type": "code",
   "execution_count": 97,
   "id": "29a1f4b5",
   "metadata": {},
   "outputs": [
    {
     "data": {
      "image/png": "[encoded data removed]",
      "text/plain": [
       "<Figure size 432x288 with 1 Axes>"
      ]
     },
     "metadata": {},
     "output_type": "display_data"
    }
   ],
   "source": [
    "listgender = df[\"Gender\"].tolist()\n",
    "countgendermale = listgender.count(\"M\")\n",
    "countgenderfemale = listgender.count(\"W\")\n",
    "\n",
    "gender = [\"Male\", \"Female\"]\n",
    "numbers = [countgendermale, countgenderfemale]\n",
    "plt.title(\"Gender\", fontsize = 12)\n",
    "\n",
    "plt.pie(numbers, labels = gender)\n",
    "plt.savefig('gender.png', facecolor='w')\n",
    "plt.show()"
   ]
  },
  {
   "cell_type": "code",
   "execution_count": 98,
   "id": "f7370ec5",
   "metadata": {},
   "outputs": [
    {
     "data": {
      "image/png": "[encoded data removed]",
      "text/plain": [
       "<Figure size 432x288 with 1 Axes>"
      ]
     },
     "metadata": {},
     "output_type": "display_data"
    }
   ],
   "source": [
    "listbirth = df[\"Yearofbirth\"].tolist()\n",
    "count92 = listbirth.count(1992) \n",
    "count93 = listbirth.count(1993)\n",
    "count94 = listbirth.count(1994)\n",
    "count95 = listbirth.count(1995)\n",
    "count96 = listbirth.count(1996)\n",
    "count97 = listbirth.count(1997)\n",
    "count98 = listbirth.count(1998)\n",
    "count99 = listbirth.count(1999)\n",
    "\n",
    "birth =[\"1992\", \"1993\", \"1994\", \"1995\", \"1996\", \"1997\", \"1998\", \"1999\"]\n",
    "numbers = [count92, count93, count94, count95, count96, count97, count98, count99]\n",
    "plt.title(\"Year of birth\", fontsize = 12)\n",
    "\n",
    "plt.pie(numbers, labels = birth)\n",
    "plt.savefig('birth.png', facecolor='w')\n",
    "plt.show()"
   ]
  },
  {
   "cell_type": "code",
   "execution_count": 99,
   "id": "8c01cae4",
   "metadata": {},
   "outputs": [
    {
     "data": {
      "image/png": "[encoded data removed]",
      "text/plain": [
       "<Figure size 432x288 with 1 Axes>"
      ]
     },
     "metadata": {},
     "output_type": "display_data"
    }
   ],
   "source": [
    "listdegree = df[\"highest_degree\"].tolist()\n",
    "countA_level = listdegree.count(\"A_level\")\n",
    "countbachelor = listdegree.count(\"Bachelor\")\n",
    "countmaster = listdegree.count(\"Master\")\n",
    "countstate_exam = listdegree.count(\"State_exam\")\n",
    "\n",
    "degree =[\"A-level\", \"Bachelor\", \"Master\", \"State examination\"]\n",
    "numbers = [countA_level, countbachelor, countmaster, countstate_exam]\n",
    "plt.title(\"Highest degree\", fontsize = 12)\n",
    "\n",
    "plt.pie(numbers, labels = degree)\n",
    "plt.savefig('degree.png', facecolor='w')\n",
    "plt.show()"
   ]
  },
  {
   "cell_type": "code",
   "execution_count": 100,
   "id": "0453b6e4",
   "metadata": {
    "scrolled": false
   },
   "outputs": [
    {
     "data": {
      "text/html": [
       "<div>\n",
       "<style scoped>\n",
       "    .dataframe tbody tr th:only-of-type {\n",
       "        vertical-align: middle;\n",
       "    }\n",
       "\n",
       "    .dataframe tbody tr th {\n",
       "        vertical-align: top;\n",
       "    }\n",
       "\n",
       "    .dataframe thead th {\n",
       "        text-align: right;\n",
       "    }\n",
       "</style>\n",
       "<table border=\"1\" class=\"dataframe\">\n",
       "  <thead>\n",
       "    <tr style=\"text-align: right;\">\n",
       "      <th></th>\n",
       "      <th>P5</th>\n",
       "      <th>P6</th>\n",
       "      <th>P7</th>\n",
       "      <th>P8</th>\n",
       "      <th>P9</th>\n",
       "      <th>P10</th>\n",
       "      <th>P11</th>\n",
       "      <th>P12</th>\n",
       "    </tr>\n",
       "  </thead>\n",
       "  <tbody>\n",
       "    <tr>\n",
       "      <th>2</th>\n",
       "      <td>B</td>\n",
       "      <td>H</td>\n",
       "      <td>J</td>\n",
       "      <td>T</td>\n",
       "      <td>B</td>\n",
       "      <td>H</td>\n",
       "      <td>B</td>\n",
       "      <td>J</td>\n",
       "    </tr>\n",
       "    <tr>\n",
       "      <th>3</th>\n",
       "      <td>B</td>\n",
       "      <td>H</td>\n",
       "      <td>J</td>\n",
       "      <td>J</td>\n",
       "      <td>B</td>\n",
       "      <td>B</td>\n",
       "      <td>T</td>\n",
       "      <td>B</td>\n",
       "    </tr>\n",
       "    <tr>\n",
       "      <th>4</th>\n",
       "      <td>B</td>\n",
       "      <td>H</td>\n",
       "      <td>T</td>\n",
       "      <td>T</td>\n",
       "      <td>B</td>\n",
       "      <td>B</td>\n",
       "      <td>B</td>\n",
       "      <td>H</td>\n",
       "    </tr>\n",
       "    <tr>\n",
       "      <th>5</th>\n",
       "      <td>H</td>\n",
       "      <td>H</td>\n",
       "      <td>T</td>\n",
       "      <td>T</td>\n",
       "      <td>B</td>\n",
       "      <td>H</td>\n",
       "      <td>B</td>\n",
       "      <td>B</td>\n",
       "    </tr>\n",
       "    <tr>\n",
       "      <th>6</th>\n",
       "      <td>J</td>\n",
       "      <td>H</td>\n",
       "      <td>J</td>\n",
       "      <td>J</td>\n",
       "      <td>B</td>\n",
       "      <td>H</td>\n",
       "      <td>B</td>\n",
       "      <td>H</td>\n",
       "    </tr>\n",
       "    <tr>\n",
       "      <th>7</th>\n",
       "      <td>B</td>\n",
       "      <td>H</td>\n",
       "      <td>T</td>\n",
       "      <td>J</td>\n",
       "      <td>H</td>\n",
       "      <td>B</td>\n",
       "      <td>B</td>\n",
       "      <td>T</td>\n",
       "    </tr>\n",
       "    <tr>\n",
       "      <th>8</th>\n",
       "      <td>B</td>\n",
       "      <td>H</td>\n",
       "      <td>T</td>\n",
       "      <td>J</td>\n",
       "      <td>B</td>\n",
       "      <td>H</td>\n",
       "      <td>B</td>\n",
       "      <td>B</td>\n",
       "    </tr>\n",
       "    <tr>\n",
       "      <th>9</th>\n",
       "      <td>B</td>\n",
       "      <td>H</td>\n",
       "      <td>T</td>\n",
       "      <td>J</td>\n",
       "      <td>H</td>\n",
       "      <td>H</td>\n",
       "      <td>B</td>\n",
       "      <td>H</td>\n",
       "    </tr>\n",
       "    <tr>\n",
       "      <th>10</th>\n",
       "      <td>B</td>\n",
       "      <td>H</td>\n",
       "      <td>J</td>\n",
       "      <td>T</td>\n",
       "      <td>H</td>\n",
       "      <td>H</td>\n",
       "      <td>B</td>\n",
       "      <td>J</td>\n",
       "    </tr>\n",
       "    <tr>\n",
       "      <th>11</th>\n",
       "      <td>B</td>\n",
       "      <td>H</td>\n",
       "      <td>T</td>\n",
       "      <td>J</td>\n",
       "      <td>B</td>\n",
       "      <td>H</td>\n",
       "      <td>B</td>\n",
       "      <td>H</td>\n",
       "    </tr>\n",
       "  </tbody>\n",
       "</table>\n",
       "</div>"
      ],
      "text/plain": [
       "   P5 P6 P7 P8 P9 P10 P11 P12\n",
       "2   B  H  J  T  B   H   B   J\n",
       "3   B  H  J  J  B   B   T   B\n",
       "4   B  H  T  T  B   B   B   H\n",
       "5   H  H  T  T  B   H   B   B\n",
       "6   J  H  J  J  B   H   B   H\n",
       "7   B  H  T  J  H   B   B   T\n",
       "8   B  H  T  J  B   H   B   B\n",
       "9   B  H  T  J  H   H   B   H\n",
       "10  B  H  J  T  H   H   B   J\n",
       "11  B  H  T  J  B   H   B   H"
      ]
     },
     "execution_count": 100,
     "metadata": {},
     "output_type": "execute_result"
    }
   ],
   "source": [
    "listcontrol=controlgroup[[\"P5\",\"P6\",\"P7\",\"P8\",\"P9\",\"P10\",\"P11\",\"P12\"]]\n",
    "listcontrol"
   ]
  },
  {
   "cell_type": "code",
   "execution_count": 101,
   "id": "0377016b",
   "metadata": {
    "scrolled": true
   },
   "outputs": [],
   "source": [
    "newlistcontrol = listcontrol.values.tolist()"
   ]
  },
  {
   "cell_type": "code",
   "execution_count": 102,
   "id": "7d1958b6",
   "metadata": {},
   "outputs": [],
   "source": [
    "control = []\n",
    "for i in newlistcontrol:\n",
    "    for j in i:\n",
    "        control.append(j)"
   ]
  },
  {
   "cell_type": "code",
   "execution_count": 103,
   "id": "07d3bddf",
   "metadata": {},
   "outputs": [
    {
     "data": {
      "text/html": [
       "<div>\n",
       "<style scoped>\n",
       "    .dataframe tbody tr th:only-of-type {\n",
       "        vertical-align: middle;\n",
       "    }\n",
       "\n",
       "    .dataframe tbody tr th {\n",
       "        vertical-align: top;\n",
       "    }\n",
       "\n",
       "    .dataframe thead th {\n",
       "        text-align: right;\n",
       "    }\n",
       "</style>\n",
       "<table border=\"1\" class=\"dataframe\">\n",
       "  <thead>\n",
       "    <tr style=\"text-align: right;\">\n",
       "      <th></th>\n",
       "      <th>P5</th>\n",
       "      <th>P6</th>\n",
       "      <th>P7</th>\n",
       "      <th>P8</th>\n",
       "      <th>P9</th>\n",
       "      <th>P10</th>\n",
       "      <th>P11</th>\n",
       "      <th>P12</th>\n",
       "    </tr>\n",
       "  </thead>\n",
       "  <tbody>\n",
       "    <tr>\n",
       "      <th>0</th>\n",
       "      <td>B</td>\n",
       "      <td>H</td>\n",
       "      <td>T</td>\n",
       "      <td>J</td>\n",
       "      <td>B</td>\n",
       "      <td>H</td>\n",
       "      <td>B</td>\n",
       "      <td>T</td>\n",
       "    </tr>\n",
       "  </tbody>\n",
       "</table>\n",
       "</div>"
      ],
      "text/plain": [
       "  P5 P6 P7 P8 P9 P10 P11 P12\n",
       "0  B  H  T  J  B   H   B   T"
      ]
     },
     "execution_count": 103,
     "metadata": {},
     "output_type": "execute_result"
    }
   ],
   "source": [
    "listsolution = df.head(1)[[\"P5\",\"P6\",\"P7\",\"P8\",\"P9\",\"P10\",\"P11\",\"P12\"]]\n",
    "listsolution"
   ]
  },
  {
   "cell_type": "code",
   "execution_count": 104,
   "id": "105aa8b0",
   "metadata": {},
   "outputs": [],
   "source": [
    "newlistsolution = listsolution.values.tolist()"
   ]
  },
  {
   "cell_type": "code",
   "execution_count": 105,
   "id": "7559712f",
   "metadata": {},
   "outputs": [],
   "source": [
    "newlistsolution2 = newlistsolution*10"
   ]
  },
  {
   "cell_type": "code",
   "execution_count": 106,
   "id": "3f0b02a7",
   "metadata": {},
   "outputs": [],
   "source": [
    "solution = []\n",
    "for i in newlistsolution2:\n",
    "    for j in i:\n",
    "        solution.append(j)"
   ]
  },
  {
   "cell_type": "code",
   "execution_count": 107,
   "id": "f70f7946",
   "metadata": {},
   "outputs": [
    {
     "data": {
      "image/png": "[encoded data removed]",
      "text/plain": [
       "<Figure size 432x288 with 2 Axes>"
      ]
     },
     "metadata": {
      "needs_background": "light"
     },
     "output_type": "display_data"
    }
   ],
   "source": [
    "import matplotlib.pyplot as plt\n",
    "import numpy\n",
    "from sklearn import metrics\n",
    "\n",
    "actual = solution\n",
    "predicted = control\n",
    "\n",
    "confusion_matrix = metrics.confusion_matrix(actual, predicted)\n",
    "\n",
    "a = confusion_matrix[0]*(1/30)\n",
    "b = confusion_matrix[1]*(1/20)\n",
    "c = confusion_matrix[2]*(1/10)\n",
    "d = confusion_matrix[3]*(1/20)\n",
    "matrix=np.concatenate((a, b, c, d))\n",
    "\n",
    "matrix=matrix.reshape(4,4)\n",
    "\n",
    "cm_display = metrics.ConfusionMatrixDisplay(confusion_matrix = matrix, display_labels = [\"Berlin\", \"Hamburg\", \"Jerusalem\", \"Tel Aviv\"])\n",
    "\n",
    "cm_display.plot()\n",
    "plt.xlabel('User guess')\n",
    "plt.ylabel('Solution')\n",
    "plt.title(\"User performance control group\")\n",
    "#plt.savefig('confusioncontrol.png', facecolor='w')\n",
    "plt.show()"
   ]
  },
  {
   "cell_type": "code",
   "execution_count": 108,
   "id": "ae98d737",
   "metadata": {
    "scrolled": true
   },
   "outputs": [
    {
     "data": {
      "text/html": [
       "<div>\n",
       "<style scoped>\n",
       "    .dataframe tbody tr th:only-of-type {\n",
       "        vertical-align: middle;\n",
       "    }\n",
       "\n",
       "    .dataframe tbody tr th {\n",
       "        vertical-align: top;\n",
       "    }\n",
       "\n",
       "    .dataframe thead th {\n",
       "        text-align: right;\n",
       "    }\n",
       "</style>\n",
       "<table border=\"1\" class=\"dataframe\">\n",
       "  <thead>\n",
       "    <tr style=\"text-align: right;\">\n",
       "      <th></th>\n",
       "      <th>P5</th>\n",
       "      <th>P6</th>\n",
       "      <th>P7</th>\n",
       "      <th>P8</th>\n",
       "      <th>P9</th>\n",
       "      <th>P10</th>\n",
       "      <th>P11</th>\n",
       "      <th>P12</th>\n",
       "    </tr>\n",
       "  </thead>\n",
       "  <tbody>\n",
       "    <tr>\n",
       "      <th>12</th>\n",
       "      <td>B</td>\n",
       "      <td>H</td>\n",
       "      <td>T</td>\n",
       "      <td>J</td>\n",
       "      <td>B</td>\n",
       "      <td>H</td>\n",
       "      <td>B</td>\n",
       "      <td>H</td>\n",
       "    </tr>\n",
       "    <tr>\n",
       "      <th>13</th>\n",
       "      <td>B</td>\n",
       "      <td>J</td>\n",
       "      <td>T</td>\n",
       "      <td>J</td>\n",
       "      <td>H</td>\n",
       "      <td>B</td>\n",
       "      <td>B</td>\n",
       "      <td>T</td>\n",
       "    </tr>\n",
       "    <tr>\n",
       "      <th>14</th>\n",
       "      <td>B</td>\n",
       "      <td>H</td>\n",
       "      <td>T</td>\n",
       "      <td>J</td>\n",
       "      <td>B</td>\n",
       "      <td>B</td>\n",
       "      <td>B</td>\n",
       "      <td>T</td>\n",
       "    </tr>\n",
       "    <tr>\n",
       "      <th>15</th>\n",
       "      <td>H</td>\n",
       "      <td>H</td>\n",
       "      <td>T</td>\n",
       "      <td>T</td>\n",
       "      <td>B</td>\n",
       "      <td>H</td>\n",
       "      <td>B</td>\n",
       "      <td>T</td>\n",
       "    </tr>\n",
       "    <tr>\n",
       "      <th>16</th>\n",
       "      <td>B</td>\n",
       "      <td>H</td>\n",
       "      <td>T</td>\n",
       "      <td>J</td>\n",
       "      <td>H</td>\n",
       "      <td>H</td>\n",
       "      <td>B</td>\n",
       "      <td>B</td>\n",
       "    </tr>\n",
       "    <tr>\n",
       "      <th>17</th>\n",
       "      <td>B</td>\n",
       "      <td>H</td>\n",
       "      <td>J</td>\n",
       "      <td>J</td>\n",
       "      <td>B</td>\n",
       "      <td>B</td>\n",
       "      <td>B</td>\n",
       "      <td>T</td>\n",
       "    </tr>\n",
       "    <tr>\n",
       "      <th>18</th>\n",
       "      <td>H</td>\n",
       "      <td>H</td>\n",
       "      <td>T</td>\n",
       "      <td>T</td>\n",
       "      <td>B</td>\n",
       "      <td>H</td>\n",
       "      <td>B</td>\n",
       "      <td>H</td>\n",
       "    </tr>\n",
       "    <tr>\n",
       "      <th>19</th>\n",
       "      <td>B</td>\n",
       "      <td>H</td>\n",
       "      <td>T</td>\n",
       "      <td>J</td>\n",
       "      <td>H</td>\n",
       "      <td>B</td>\n",
       "      <td>B</td>\n",
       "      <td>T</td>\n",
       "    </tr>\n",
       "    <tr>\n",
       "      <th>20</th>\n",
       "      <td>B</td>\n",
       "      <td>H</td>\n",
       "      <td>J</td>\n",
       "      <td>J</td>\n",
       "      <td>B</td>\n",
       "      <td>H</td>\n",
       "      <td>B</td>\n",
       "      <td>H</td>\n",
       "    </tr>\n",
       "    <tr>\n",
       "      <th>21</th>\n",
       "      <td>B</td>\n",
       "      <td>H</td>\n",
       "      <td>T</td>\n",
       "      <td>J</td>\n",
       "      <td>B</td>\n",
       "      <td>H</td>\n",
       "      <td>B</td>\n",
       "      <td>T</td>\n",
       "    </tr>\n",
       "  </tbody>\n",
       "</table>\n",
       "</div>"
      ],
      "text/plain": [
       "   P5 P6 P7 P8 P9 P10 P11 P12\n",
       "12  B  H  T  J  B   H   B   H\n",
       "13  B  J  T  J  H   B   B   T\n",
       "14  B  H  T  J  B   B   B   T\n",
       "15  H  H  T  T  B   H   B   T\n",
       "16  B  H  T  J  H   H   B   B\n",
       "17  B  H  J  J  B   B   B   T\n",
       "18  H  H  T  T  B   H   B   H\n",
       "19  B  H  T  J  H   B   B   T\n",
       "20  B  H  J  J  B   H   B   H\n",
       "21  B  H  T  J  B   H   B   T"
      ]
     },
     "execution_count": 108,
     "metadata": {},
     "output_type": "execute_result"
    }
   ],
   "source": [
    "listtreat1=treatment1[[\"P5\",\"P6\",\"P7\",\"P8\",\"P9\",\"P10\",\"P11\",\"P12\"]]\n",
    "listtreat1"
   ]
  },
  {
   "cell_type": "code",
   "execution_count": 109,
   "id": "276842cc",
   "metadata": {},
   "outputs": [],
   "source": [
    "newlisttreat1 = listtreat1.values.tolist()"
   ]
  },
  {
   "cell_type": "code",
   "execution_count": 110,
   "id": "9e2db4b8",
   "metadata": {},
   "outputs": [],
   "source": [
    "treat1 = []\n",
    "for i in newlisttreat1:\n",
    "    for j in i:\n",
    "        treat1.append(j)"
   ]
  },
  {
   "cell_type": "code",
   "execution_count": 111,
   "id": "208aee4e",
   "metadata": {
    "scrolled": true
   },
   "outputs": [
    {
     "data": {
      "image/png": "[encoded data removed]",
      "text/plain": [
       "<Figure size 432x288 with 2 Axes>"
      ]
     },
     "metadata": {
      "needs_background": "light"
     },
     "output_type": "display_data"
    }
   ],
   "source": [
    "actual = solution\n",
    "predicted = treat1\n",
    "\n",
    "confusion_matrix = metrics.confusion_matrix(actual, predicted)\n",
    "\n",
    "a = confusion_matrix[0]*(1/30)\n",
    "b = confusion_matrix[1]*(1/20)\n",
    "c = confusion_matrix[2]*(1/10)\n",
    "d = confusion_matrix[3]*(1/20)\n",
    "matrix=np.concatenate((a, b, c, d))\n",
    "\n",
    "matrix=matrix.reshape(4,4)\n",
    "\n",
    "cm_display = metrics.ConfusionMatrixDisplay(confusion_matrix = matrix, display_labels = [\"Berlin\", \"Hamburg\", \"Jerusalem\", \"Tel Aviv\"])\n",
    "\n",
    "cm_display.plot()\n",
    "plt.xlabel('User guess')\n",
    "plt.ylabel('Solution')\n",
    "plt.title(\"User performance treatment group 1\")\n",
    "#plt.savefig('confusiontreat1.png', facecolor='w')\n",
    "plt.show()"
   ]
  },
  {
   "cell_type": "code",
   "execution_count": 112,
   "id": "b9bf7d5a",
   "metadata": {
    "scrolled": true
   },
   "outputs": [
    {
     "data": {
      "text/html": [
       "<div>\n",
       "<style scoped>\n",
       "    .dataframe tbody tr th:only-of-type {\n",
       "        vertical-align: middle;\n",
       "    }\n",
       "\n",
       "    .dataframe tbody tr th {\n",
       "        vertical-align: top;\n",
       "    }\n",
       "\n",
       "    .dataframe thead th {\n",
       "        text-align: right;\n",
       "    }\n",
       "</style>\n",
       "<table border=\"1\" class=\"dataframe\">\n",
       "  <thead>\n",
       "    <tr style=\"text-align: right;\">\n",
       "      <th></th>\n",
       "      <th>P5</th>\n",
       "      <th>P6</th>\n",
       "      <th>P7</th>\n",
       "      <th>P8</th>\n",
       "      <th>P9</th>\n",
       "      <th>P10</th>\n",
       "      <th>P11</th>\n",
       "      <th>P12</th>\n",
       "    </tr>\n",
       "  </thead>\n",
       "  <tbody>\n",
       "    <tr>\n",
       "      <th>22</th>\n",
       "      <td>B</td>\n",
       "      <td>H</td>\n",
       "      <td>T</td>\n",
       "      <td>J</td>\n",
       "      <td>B</td>\n",
       "      <td>H</td>\n",
       "      <td>B</td>\n",
       "      <td>B</td>\n",
       "    </tr>\n",
       "    <tr>\n",
       "      <th>23</th>\n",
       "      <td>B</td>\n",
       "      <td>H</td>\n",
       "      <td>T</td>\n",
       "      <td>J</td>\n",
       "      <td>H</td>\n",
       "      <td>H</td>\n",
       "      <td>B</td>\n",
       "      <td>T</td>\n",
       "    </tr>\n",
       "    <tr>\n",
       "      <th>24</th>\n",
       "      <td>B</td>\n",
       "      <td>H</td>\n",
       "      <td>T</td>\n",
       "      <td>J</td>\n",
       "      <td>H</td>\n",
       "      <td>H</td>\n",
       "      <td>B</td>\n",
       "      <td>T</td>\n",
       "    </tr>\n",
       "    <tr>\n",
       "      <th>25</th>\n",
       "      <td>B</td>\n",
       "      <td>H</td>\n",
       "      <td>T</td>\n",
       "      <td>T</td>\n",
       "      <td>B</td>\n",
       "      <td>H</td>\n",
       "      <td>B</td>\n",
       "      <td>T</td>\n",
       "    </tr>\n",
       "    <tr>\n",
       "      <th>26</th>\n",
       "      <td>B</td>\n",
       "      <td>H</td>\n",
       "      <td>T</td>\n",
       "      <td>J</td>\n",
       "      <td>B</td>\n",
       "      <td>H</td>\n",
       "      <td>B</td>\n",
       "      <td>T</td>\n",
       "    </tr>\n",
       "    <tr>\n",
       "      <th>27</th>\n",
       "      <td>B</td>\n",
       "      <td>H</td>\n",
       "      <td>T</td>\n",
       "      <td>J</td>\n",
       "      <td>H</td>\n",
       "      <td>H</td>\n",
       "      <td>B</td>\n",
       "      <td>T</td>\n",
       "    </tr>\n",
       "    <tr>\n",
       "      <th>28</th>\n",
       "      <td>B</td>\n",
       "      <td>H</td>\n",
       "      <td>T</td>\n",
       "      <td>J</td>\n",
       "      <td>H</td>\n",
       "      <td>H</td>\n",
       "      <td>B</td>\n",
       "      <td>T</td>\n",
       "    </tr>\n",
       "    <tr>\n",
       "      <th>29</th>\n",
       "      <td>B</td>\n",
       "      <td>H</td>\n",
       "      <td>T</td>\n",
       "      <td>J</td>\n",
       "      <td>B</td>\n",
       "      <td>H</td>\n",
       "      <td>B</td>\n",
       "      <td>T</td>\n",
       "    </tr>\n",
       "    <tr>\n",
       "      <th>30</th>\n",
       "      <td>B</td>\n",
       "      <td>H</td>\n",
       "      <td>T</td>\n",
       "      <td>T</td>\n",
       "      <td>H</td>\n",
       "      <td>H</td>\n",
       "      <td>B</td>\n",
       "      <td>T</td>\n",
       "    </tr>\n",
       "    <tr>\n",
       "      <th>31</th>\n",
       "      <td>B</td>\n",
       "      <td>H</td>\n",
       "      <td>T</td>\n",
       "      <td>J</td>\n",
       "      <td>H</td>\n",
       "      <td>H</td>\n",
       "      <td>B</td>\n",
       "      <td>T</td>\n",
       "    </tr>\n",
       "  </tbody>\n",
       "</table>\n",
       "</div>"
      ],
      "text/plain": [
       "   P5 P6 P7 P8 P9 P10 P11 P12\n",
       "22  B  H  T  J  B   H   B   B\n",
       "23  B  H  T  J  H   H   B   T\n",
       "24  B  H  T  J  H   H   B   T\n",
       "25  B  H  T  T  B   H   B   T\n",
       "26  B  H  T  J  B   H   B   T\n",
       "27  B  H  T  J  H   H   B   T\n",
       "28  B  H  T  J  H   H   B   T\n",
       "29  B  H  T  J  B   H   B   T\n",
       "30  B  H  T  T  H   H   B   T\n",
       "31  B  H  T  J  H   H   B   T"
      ]
     },
     "execution_count": 112,
     "metadata": {},
     "output_type": "execute_result"
    }
   ],
   "source": [
    "listtreat2=treatment2[[\"P5\",\"P6\",\"P7\",\"P8\",\"P9\",\"P10\",\"P11\",\"P12\"]]\n",
    "listtreat2"
   ]
  },
  {
   "cell_type": "code",
   "execution_count": 113,
   "id": "c418a0d1",
   "metadata": {},
   "outputs": [],
   "source": [
    "newlisttreat2 = listtreat2.values.tolist()"
   ]
  },
  {
   "cell_type": "code",
   "execution_count": 114,
   "id": "c9a906d2",
   "metadata": {},
   "outputs": [],
   "source": [
    "treat2 = []\n",
    "for i in newlisttreat2:\n",
    "    for j in i:\n",
    "        treat2.append(j)"
   ]
  },
  {
   "cell_type": "code",
   "execution_count": 115,
   "id": "bb6f7d6e",
   "metadata": {},
   "outputs": [
    {
     "data": {
      "image/png": "[encoded data removed]",
      "text/plain": [
       "<Figure size 432x288 with 2 Axes>"
      ]
     },
     "metadata": {
      "needs_background": "light"
     },
     "output_type": "display_data"
    }
   ],
   "source": [
    "actual = solution\n",
    "predicted = treat2\n",
    "\n",
    "confusion_matrix = metrics.confusion_matrix(actual, predicted)\n",
    "\n",
    "a = confusion_matrix[0]*(1/30)\n",
    "b = confusion_matrix[1]*(1/20)\n",
    "c = confusion_matrix[2]*(1/10)\n",
    "d = confusion_matrix[3]*(1/20)\n",
    "matrix=np.concatenate((a, b, c, d))\n",
    "\n",
    "matrix=matrix.reshape(4,4)\n",
    "\n",
    "cm_display = metrics.ConfusionMatrixDisplay(confusion_matrix = matrix, display_labels = [\"Berlin\", \"Hamburg\", \"Jerusalem\", \"Tel Aviv\"])\n",
    "\n",
    "cm_display.plot()\n",
    "plt.xlabel('User guess')\n",
    "plt.ylabel('Solution')\n",
    "plt.title(\"User performance treatment group 2\")\n",
    "#plt.savefig('confusiontreat2.png', facecolor='w')\n",
    "plt.show()"
   ]
  },
  {
   "cell_type": "code",
   "execution_count": 116,
   "id": "20c3e9d6",
   "metadata": {},
   "outputs": [
    {
     "data": {
      "text/html": [
       "<div>\n",
       "<style scoped>\n",
       "    .dataframe tbody tr th:only-of-type {\n",
       "        vertical-align: middle;\n",
       "    }\n",
       "\n",
       "    .dataframe tbody tr th {\n",
       "        vertical-align: top;\n",
       "    }\n",
       "\n",
       "    .dataframe thead th {\n",
       "        text-align: right;\n",
       "    }\n",
       "</style>\n",
       "<table border=\"1\" class=\"dataframe\">\n",
       "  <thead>\n",
       "    <tr style=\"text-align: right;\">\n",
       "      <th></th>\n",
       "      <th>P5</th>\n",
       "      <th>P6</th>\n",
       "      <th>P7</th>\n",
       "      <th>P8</th>\n",
       "      <th>P9</th>\n",
       "      <th>P10</th>\n",
       "      <th>P11</th>\n",
       "      <th>P12</th>\n",
       "    </tr>\n",
       "  </thead>\n",
       "  <tbody>\n",
       "    <tr>\n",
       "      <th>1</th>\n",
       "      <td>B</td>\n",
       "      <td>H</td>\n",
       "      <td>T</td>\n",
       "      <td>J</td>\n",
       "      <td>H</td>\n",
       "      <td>H</td>\n",
       "      <td>B</td>\n",
       "      <td>T</td>\n",
       "    </tr>\n",
       "  </tbody>\n",
       "</table>\n",
       "</div>"
      ],
      "text/plain": [
       "  P5 P6 P7 P8 P9 P10 P11 P12\n",
       "1  B  H  T  J  H   H   B   T"
      ]
     },
     "execution_count": 116,
     "metadata": {},
     "output_type": "execute_result"
    }
   ],
   "source": [
    "listai = df.iloc[[1]][[\"P5\",\"P6\",\"P7\",\"P8\",\"P9\",\"P10\",\"P11\",\"P12\"]]\n",
    "listai"
   ]
  },
  {
   "cell_type": "code",
   "execution_count": 117,
   "id": "df102f2b",
   "metadata": {},
   "outputs": [
    {
     "data": {
      "text/plain": [
       "[['B', 'H', 'T', 'J', 'H', 'H', 'B', 'T']]"
      ]
     },
     "execution_count": 117,
     "metadata": {},
     "output_type": "execute_result"
    }
   ],
   "source": [
    "newlistai = listai.values.tolist()\n",
    "newlistai"
   ]
  },
  {
   "cell_type": "code",
   "execution_count": 118,
   "id": "7ed2a0bc",
   "metadata": {},
   "outputs": [],
   "source": [
    "solutionai = []\n",
    "for i in newlistsolution:\n",
    "    for j in i:\n",
    "        solutionai.append(j)"
   ]
  },
  {
   "cell_type": "code",
   "execution_count": 119,
   "id": "f47824bb",
   "metadata": {},
   "outputs": [
    {
     "data": {
      "text/plain": [
       "['B', 'H', 'T', 'J', 'H', 'H', 'B', 'T']"
      ]
     },
     "execution_count": 119,
     "metadata": {},
     "output_type": "execute_result"
    }
   ],
   "source": [
    "aiguess = []\n",
    "for i in newlistai:\n",
    "    for j in i:\n",
    "        aiguess.append(j)\n",
    "aiguess"
   ]
  },
  {
   "cell_type": "code",
   "execution_count": 120,
   "id": "78ede755",
   "metadata": {},
   "outputs": [
    {
     "data": {
      "image/png": "[encoded data removed]",
      "text/plain": [
       "<Figure size 432x288 with 2 Axes>"
      ]
     },
     "metadata": {
      "needs_background": "light"
     },
     "output_type": "display_data"
    }
   ],
   "source": [
    "actual = solutionai\n",
    "predicted = aiguess\n",
    "\n",
    "confusion_matrix = metrics.confusion_matrix(actual, predicted)\n",
    "\n",
    "a = confusion_matrix[0]*(1/3)\n",
    "b = confusion_matrix[1]*(1/2)\n",
    "c = confusion_matrix[2]*(1/1)\n",
    "d = confusion_matrix[3]*(1/2)\n",
    "matrix=np.concatenate((a, b, c, d))\n",
    "\n",
    "matrix=matrix.reshape(4,4)\n",
    "\n",
    "cm_display = metrics.ConfusionMatrixDisplay(confusion_matrix = matrix, display_labels = [\"Berlin\", \"Hamburg\", \"Jerusalem\", \"Tel Aviv\"])\n",
    "\n",
    "cm_display.plot()\n",
    "plt.xlabel('AI guess')\n",
    "plt.ylabel('Solution')\n",
    "plt.title(\"AI performance\")\n",
    "#plt.savefig('confusionai.png', facecolor='w')\n",
    "plt.show()"
   ]
  }
 ],
 "metadata": {
  "kernelspec": {
   "display_name": "Python 3",
   "language": "python",
   "name": "python3"
  },
  "language_info": {
   "codemirror_mode": {
    "name": "ipython",
    "version": 3
   },
   "file_extension": ".py",
   "mimetype": "text/x-python",
   "name": "python",
   "nbconvert_exporter": "python",
   "pygments_lexer": "ipython3",
   "version": "3.8.8"
  }
 },
 "nbformat": 4,
 "nbformat_minor": 5
}
